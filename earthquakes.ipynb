{
 "cells": [
  {
   "cell_type": "code",
   "execution_count": 1,
   "metadata": {
    "collapsed": true
   },
   "outputs": [],
   "source": [
    "import pandas as pd\n",
    "import requests\n",
    "from bs4 import BeautifulSoup as BS\n",
    "import re\n",
    "import warnings\n",
    "import folium\n",
    "import bokeh\n",
    "import matplotlib.pyplot as plt\n",
    "import seaborn as sns\n",
    "import numpy as np\n",
    "from folium import plugins\n",
    "from folium.plugins import HeatMap\n",
    "import datetime\n",
    "import geopy.distance\n",
    "import mpu\n",
    "from folium.plugins import MarkerCluster\n",
    "pd.options.display.max_rows = 999\n",
    "pd.options.display.max_columns = 999\n",
    "warnings.filterwarnings(\"ignore\")"
   ]
  },
  {
   "cell_type": "code",
   "execution_count": 2,
   "metadata": {
    "collapsed": true
   },
   "outputs": [],
   "source": [
    "# create a Request object for the wikipedia page for the Turing Award\n",
    "response = requests.get('https://en.wikipedia.org/wiki/List_of_deadly_earthquakes_since_1900')\n",
    "\n",
    "# read the resulting HTML into a variable called result_text\n",
    "result_text = response.text"
   ]
  },
  {
   "cell_type": "code",
   "execution_count": 3,
   "metadata": {
    "collapsed": true
   },
   "outputs": [],
   "source": [
    "# create the soup by constructing a BS object from the html page and the appropriate parser\n",
    "soup = BS(result_text, 'html.parser')"
   ]
  },
  {
   "cell_type": "code",
   "execution_count": 4,
   "metadata": {
    "collapsed": true
   },
   "outputs": [],
   "source": [
    "table = soup.find('table', {'class': \"sortable wikitable\"})"
   ]
  },
  {
   "cell_type": "code",
   "execution_count": 5,
   "metadata": {
    "collapsed": true
   },
   "outputs": [],
   "source": [
    "\n",
    "list_df = pd.read_html(str(table), header=0)"
   ]
  },
  {
   "cell_type": "code",
   "execution_count": 6,
   "metadata": {
    "collapsed": true
   },
   "outputs": [],
   "source": [
    "df_original = pd.DataFrame(list_df[0])\n"
   ]
  },
  {
   "cell_type": "code",
   "execution_count": 7,
   "metadata": {
    "collapsed": true
   },
   "outputs": [],
   "source": [
    "def remove_footnotes(unformatted, coltype, x=1):\n",
    "   try:\n",
    "       m = []\n",
    "       if(coltype == 'reference'):\n",
    "           m = re.search('(^\\d+)\\D*', unformatted)\n",
    "       elif(coltype == 'country'):\n",
    "           m = re.search('(^\\w+)\\W*', unformatted)\n",
    "       elif(coltype == 'magnitude'):\n",
    "           m = re.search('(^\\d+\\.*\\d*)\\W*', unformatted)\n",
    "       return m.group(x)\n",
    "   except:\n",
    "       return 'NaN'"
   ]
  },
  {
   "cell_type": "code",
   "execution_count": 8,
   "metadata": {
    "collapsed": true
   },
   "outputs": [],
   "source": [
    "df_original['Present-day country and link to Wikipedia article'] = df_original['Present-day country and link to Wikipedia article'].apply(lambda x: remove_footnotes(x,coltype='country'))\n",
    "df_original['Magnitude'] = df_original['Magnitude'].apply(lambda x: remove_footnotes(x,coltype='magnitude'))\n",
    "df_original['EM-DAT Total Deaths'] = df_original['EM-DAT Total Deaths'].apply(lambda x: remove_footnotes(x,coltype='reference'))\n",
    "df_original['Other Source Deaths'] = df_original['Other Source Deaths'].apply(lambda x: remove_footnotes(x,coltype='reference'))"
   ]
  },
  {
   "cell_type": "code",
   "execution_count": 9,
   "metadata": {
    "collapsed": true
   },
   "outputs": [],
   "source": [
    "df_original['Magnitude']=df_original['Magnitude'].astype('float64')\n",
    "df_original['Other Source Deaths']=df_original['Other Source Deaths'].astype('float64')\n",
    "df_original['EM-DAT Total Deaths']=df_original['EM-DAT Total Deaths'].astype('float64')\n",
    "df_original = df_original.set_index(pd.DatetimeIndex(pd.to_datetime(df_original['Origin (UTC)'])))"
   ]
  },
  {
   "cell_type": "code",
   "execution_count": 10,
   "metadata": {
    "collapsed": true
   },
   "outputs": [],
   "source": [
    "df_original= df_original.rename(index=str, columns = {'Present-day country and link to Wikipedia article':'Country'})"
   ]
  },
  {
   "cell_type": "code",
   "execution_count": 11,
   "metadata": {
    "collapsed": true
   },
   "outputs": [],
   "source": [
    "\n",
    "df_original['Deaths'] = df_original[['PDE Total Deaths','Utsu Total Deaths','EM-DAT Total Deaths','Other Source Deaths']].max(axis=1)"
   ]
  },
  {
   "cell_type": "code",
   "execution_count": 12,
   "metadata": {},
   "outputs": [
    {
     "data": {
      "text/html": [
       "<div>\n",
       "<style scoped>\n",
       "    .dataframe tbody tr th:only-of-type {\n",
       "        vertical-align: middle;\n",
       "    }\n",
       "\n",
       "    .dataframe tbody tr th {\n",
       "        vertical-align: top;\n",
       "    }\n",
       "\n",
       "    .dataframe thead th {\n",
       "        text-align: right;\n",
       "    }\n",
       "</style>\n",
       "<table border=\"1\" class=\"dataframe\">\n",
       "  <thead>\n",
       "    <tr style=\"text-align: right;\">\n",
       "      <th></th>\n",
       "      <th>Origin (UTC)</th>\n",
       "      <th>Country</th>\n",
       "      <th>Lat</th>\n",
       "      <th>Long</th>\n",
       "      <th>Depth (km)</th>\n",
       "      <th>Magnitude</th>\n",
       "      <th>Secondary Effects</th>\n",
       "      <th>PDE Shaking Deaths</th>\n",
       "      <th>PDE Total Deaths</th>\n",
       "      <th>Utsu Total Deaths</th>\n",
       "      <th>EM-DAT Total Deaths</th>\n",
       "      <th>Other Source Deaths</th>\n",
       "      <th>Deaths</th>\n",
       "    </tr>\n",
       "    <tr>\n",
       "      <th>Origin (UTC)</th>\n",
       "      <th></th>\n",
       "      <th></th>\n",
       "      <th></th>\n",
       "      <th></th>\n",
       "      <th></th>\n",
       "      <th></th>\n",
       "      <th></th>\n",
       "      <th></th>\n",
       "      <th></th>\n",
       "      <th></th>\n",
       "      <th></th>\n",
       "      <th></th>\n",
       "      <th></th>\n",
       "    </tr>\n",
       "  </thead>\n",
       "  <tbody>\n",
       "    <tr>\n",
       "      <th>2011-03-11 14:46:00</th>\n",
       "      <td>2011-03-11 14:46</td>\n",
       "      <td>Japan</td>\n",
       "      <td>38.322</td>\n",
       "      <td>142.369</td>\n",
       "      <td>24.4</td>\n",
       "      <td>9.0</td>\n",
       "      <td>T</td>\n",
       "      <td>NaN</td>\n",
       "      <td>NaN</td>\n",
       "      <td>NaN</td>\n",
       "      <td>NaN</td>\n",
       "      <td>15894.0</td>\n",
       "      <td>15894.0</td>\n",
       "    </tr>\n",
       "    <tr>\n",
       "      <th>2011-03-24 20:25:00</th>\n",
       "      <td>2011-03-24 20:25</td>\n",
       "      <td>Burma</td>\n",
       "      <td>NaN</td>\n",
       "      <td>NaN</td>\n",
       "      <td>NaN</td>\n",
       "      <td>6.8</td>\n",
       "      <td>NaN</td>\n",
       "      <td>NaN</td>\n",
       "      <td>NaN</td>\n",
       "      <td>NaN</td>\n",
       "      <td>NaN</td>\n",
       "      <td>150.0</td>\n",
       "      <td>150.0</td>\n",
       "    </tr>\n",
       "    <tr>\n",
       "      <th>2011-04-07 14:32:00</th>\n",
       "      <td>2011-04-07 14:32</td>\n",
       "      <td>Japan</td>\n",
       "      <td>38.2</td>\n",
       "      <td>140.0</td>\n",
       "      <td>66.0</td>\n",
       "      <td>7.1</td>\n",
       "      <td>NaN</td>\n",
       "      <td>NaN</td>\n",
       "      <td>NaN</td>\n",
       "      <td>NaN</td>\n",
       "      <td>NaN</td>\n",
       "      <td>NaN</td>\n",
       "      <td>NaN</td>\n",
       "    </tr>\n",
       "    <tr>\n",
       "      <th>2011-09-18 12:40:00</th>\n",
       "      <td>2011-09-18 12:40</td>\n",
       "      <td>India</td>\n",
       "      <td>27.723</td>\n",
       "      <td>88.064</td>\n",
       "      <td>19.7</td>\n",
       "      <td>6.9</td>\n",
       "      <td>L</td>\n",
       "      <td>NaN</td>\n",
       "      <td>NaN</td>\n",
       "      <td>NaN</td>\n",
       "      <td>NaN</td>\n",
       "      <td>111.0</td>\n",
       "      <td>111.0</td>\n",
       "    </tr>\n",
       "    <tr>\n",
       "      <th>2011-09-23 10:41:00</th>\n",
       "      <td>2011-09-23 10:41</td>\n",
       "      <td>Turkey</td>\n",
       "      <td>38.6</td>\n",
       "      <td>43.5</td>\n",
       "      <td>7.2</td>\n",
       "      <td>7.1</td>\n",
       "      <td>NaN</td>\n",
       "      <td>NaN</td>\n",
       "      <td>NaN</td>\n",
       "      <td>NaN</td>\n",
       "      <td>NaN</td>\n",
       "      <td>601.0</td>\n",
       "      <td>601.0</td>\n",
       "    </tr>\n",
       "  </tbody>\n",
       "</table>\n",
       "</div>"
      ],
      "text/plain": [
       "                         Origin (UTC) Country     Lat     Long Depth (km)  \\\n",
       "Origin (UTC)                                                                \n",
       "2011-03-11 14:46:00  2011-03-11 14:46   Japan  38.322  142.369       24.4   \n",
       "2011-03-24 20:25:00  2011-03-24 20:25   Burma     NaN      NaN        NaN   \n",
       "2011-04-07 14:32:00  2011-04-07 14:32   Japan    38.2    140.0       66.0   \n",
       "2011-09-18 12:40:00  2011-09-18 12:40   India  27.723   88.064       19.7   \n",
       "2011-09-23 10:41:00  2011-09-23 10:41  Turkey    38.6     43.5        7.2   \n",
       "\n",
       "                     Magnitude Secondary Effects  PDE Shaking Deaths  \\\n",
       "Origin (UTC)                                                           \n",
       "2011-03-11 14:46:00        9.0                 T                 NaN   \n",
       "2011-03-24 20:25:00        6.8               NaN                 NaN   \n",
       "2011-04-07 14:32:00        7.1               NaN                 NaN   \n",
       "2011-09-18 12:40:00        6.9                 L                 NaN   \n",
       "2011-09-23 10:41:00        7.1               NaN                 NaN   \n",
       "\n",
       "                     PDE Total Deaths  Utsu Total Deaths  EM-DAT Total Deaths  \\\n",
       "Origin (UTC)                                                                    \n",
       "2011-03-11 14:46:00               NaN                NaN                  NaN   \n",
       "2011-03-24 20:25:00               NaN                NaN                  NaN   \n",
       "2011-04-07 14:32:00               NaN                NaN                  NaN   \n",
       "2011-09-18 12:40:00               NaN                NaN                  NaN   \n",
       "2011-09-23 10:41:00               NaN                NaN                  NaN   \n",
       "\n",
       "                     Other Source Deaths   Deaths  \n",
       "Origin (UTC)                                       \n",
       "2011-03-11 14:46:00              15894.0  15894.0  \n",
       "2011-03-24 20:25:00                150.0    150.0  \n",
       "2011-04-07 14:32:00                  NaN      NaN  \n",
       "2011-09-18 12:40:00                111.0    111.0  \n",
       "2011-09-23 10:41:00                601.0    601.0  "
      ]
     },
     "execution_count": 12,
     "metadata": {},
     "output_type": "execute_result"
    }
   ],
   "source": [
    "df_original.tail()"
   ]
  },
  {
   "cell_type": "code",
   "execution_count": 13,
   "metadata": {
    "collapsed": true
   },
   "outputs": [],
   "source": [
    "df_original=df_original.rename(index=str, columns={\"Origin (UTC)\": \"Time\"})"
   ]
  },
  {
   "cell_type": "code",
   "execution_count": 14,
   "metadata": {},
   "outputs": [
    {
     "name": "stdout",
     "output_type": "stream",
     "text": [
      "<class 'pandas.core.frame.DataFrame'>\n",
      "Index: 1339 entries, 1900-05-11 17:23:00 to 2011-09-23 10:41:00\n",
      "Data columns (total 13 columns):\n",
      "Time                   1339 non-null object\n",
      "Country                1339 non-null object\n",
      "Lat                    1325 non-null object\n",
      "Long                   1325 non-null object\n",
      "Depth (km)             1249 non-null object\n",
      "Magnitude              1338 non-null float64\n",
      "Secondary Effects      373 non-null object\n",
      "PDE Shaking Deaths     738 non-null float64\n",
      "PDE Total Deaths       749 non-null float64\n",
      "Utsu Total Deaths      1027 non-null float64\n",
      "EM-DAT Total Deaths    559 non-null float64\n",
      "Other Source Deaths    37 non-null float64\n",
      "Deaths                 1273 non-null float64\n",
      "dtypes: float64(7), object(6)\n",
      "memory usage: 146.5+ KB\n"
     ]
    }
   ],
   "source": [
    "df_original.info(\n",
    ")"
   ]
  },
  {
   "cell_type": "code",
   "execution_count": 15,
   "metadata": {},
   "outputs": [
    {
     "data": {
      "text/plain": [
       "Afghanistan      30\n",
       "Albania           7\n",
       "Algeria          21\n",
       "Argentina        11\n",
       "Armenia           2\n",
       "Australia         3\n",
       "Azerbaijan        5\n",
       "Bangladesh        7\n",
       "Belgium           1\n",
       "Bolivia           3\n",
       "Bosnia            3\n",
       "Brazil            1\n",
       "Bulgaria          5\n",
       "Burma            11\n",
       "Burundi           1\n",
       "Canada            3\n",
       "Chile            44\n",
       "China           166\n",
       "Colombia         24\n",
       "Costa            10\n",
       "Cuba              2\n",
       "Cyprus            3\n",
       "Czech             1\n",
       "Democratic        6\n",
       "Djibouti          1\n",
       "Dominican         5\n",
       "Ecuador          19\n",
       "Egypt             4\n",
       "El                7\n",
       "England           1\n",
       "Eritrea           1\n",
       "Ethiopia          2\n",
       "Fiji              1\n",
       "France            4\n",
       "Georgia           9\n",
       "Ghana             1\n",
       "Greece           44\n",
       "Guadeloupe        1\n",
       "Guatemala        15\n",
       "Guinea            1\n",
       "Haiti             3\n",
       "Honduras          1\n",
       "Hungary           1\n",
       "Iceland           2\n",
       "India            25\n",
       "Indonesia        96\n",
       "Iran             92\n",
       "Iraq              1\n",
       "Italy            37\n",
       "Jamaica           2\n",
       "Japan            82\n",
       "Judea             1\n",
       "Kazakhstan        4\n",
       "Kingdom           1\n",
       "Kyrgyzstan        6\n",
       "Macedonia         1\n",
       "Malawi            2\n",
       "Malaysia          1\n",
       "Mandatory         1\n",
       "Martinique        1\n",
       "Mexico           46\n",
       "Mongolia          1\n",
       "Montenegro        1\n",
       "Morocco           7\n",
       "Mozambique        1\n",
       "NaN               1\n",
       "Nepal             4\n",
       "Netherlands       1\n",
       "New               8\n",
       "Nicaragua         7\n",
       "Pakistan         26\n",
       "Panama            3\n",
       "Papua            17\n",
       "Peru             54\n",
       "Philippines      39\n",
       "Poland            2\n",
       "Portugal          5\n",
       "Puerto            1\n",
       "Romania           5\n",
       "Russian          13\n",
       "Rwanda            1\n",
       "Saint             1\n",
       "Samoa             1\n",
       "Saudi             1\n",
       "Serbia            1\n",
       "Slovenia          2\n",
       "Solomon           5\n",
       "South            14\n",
       "Spain             1\n",
       "Sudan             1\n",
       "Syrian            1\n",
       "Taiwan           48\n",
       "Tajik             1\n",
       "Tajikistan        8\n",
       "Tanzania          4\n",
       "Tunisia           1\n",
       "Turkey           95\n",
       "Turkmenistan      4\n",
       "US                1\n",
       "Uganda            1\n",
       "United           36\n",
       "Uzbekistan        4\n",
       "Vanuatu           2\n",
       "Venezuela        11\n",
       "Vietnam           1\n",
       "Wallis            1\n",
       "Yemen             3\n",
       "Yugoslavia        1\n",
       "Name: Country, dtype: int64"
      ]
     },
     "execution_count": 15,
     "metadata": {},
     "output_type": "execute_result"
    }
   ],
   "source": [
    "df_original[\"Country\"].value_counts().sort_index()"
   ]
  },
  {
   "cell_type": "code",
   "execution_count": 16,
   "metadata": {
    "collapsed": true
   },
   "outputs": [],
   "source": [
    "df_original.to_csv(\"data_combined.csv\")"
   ]
  },
  {
   "cell_type": "code",
   "execution_count": 17,
   "metadata": {
    "collapsed": true
   },
   "outputs": [],
   "source": [
    "combined_dataset = pd.read_excel('worldcities.xlsx')"
   ]
  },
  {
   "cell_type": "code",
   "execution_count": 18,
   "metadata": {},
   "outputs": [
    {
     "data": {
      "text/html": [
       "<div>\n",
       "<style scoped>\n",
       "    .dataframe tbody tr th:only-of-type {\n",
       "        vertical-align: middle;\n",
       "    }\n",
       "\n",
       "    .dataframe tbody tr th {\n",
       "        vertical-align: top;\n",
       "    }\n",
       "\n",
       "    .dataframe thead th {\n",
       "        text-align: right;\n",
       "    }\n",
       "</style>\n",
       "<table border=\"1\" class=\"dataframe\">\n",
       "  <thead>\n",
       "    <tr style=\"text-align: right;\">\n",
       "      <th></th>\n",
       "      <th>city</th>\n",
       "      <th>city_ascii</th>\n",
       "      <th>lat</th>\n",
       "      <th>lng</th>\n",
       "      <th>country</th>\n",
       "      <th>iso2</th>\n",
       "      <th>iso3</th>\n",
       "      <th>admin_name</th>\n",
       "      <th>capital</th>\n",
       "      <th>population</th>\n",
       "      <th>id</th>\n",
       "    </tr>\n",
       "  </thead>\n",
       "  <tbody>\n",
       "    <tr>\n",
       "      <th>12888</th>\n",
       "      <td>Sturgis</td>\n",
       "      <td>Sturgis</td>\n",
       "      <td>44.4093</td>\n",
       "      <td>-103.5184</td>\n",
       "      <td>United States</td>\n",
       "      <td>US</td>\n",
       "      <td>USA</td>\n",
       "      <td>South Dakota</td>\n",
       "      <td>NaN</td>\n",
       "      <td>6787.0</td>\n",
       "      <td>1840002174</td>\n",
       "    </tr>\n",
       "    <tr>\n",
       "      <th>12889</th>\n",
       "      <td>Tea</td>\n",
       "      <td>Tea</td>\n",
       "      <td>43.4515</td>\n",
       "      <td>-96.8346</td>\n",
       "      <td>United States</td>\n",
       "      <td>US</td>\n",
       "      <td>USA</td>\n",
       "      <td>South Dakota</td>\n",
       "      <td>NaN</td>\n",
       "      <td>5002.0</td>\n",
       "      <td>1840002841</td>\n",
       "    </tr>\n",
       "    <tr>\n",
       "      <th>12890</th>\n",
       "      <td>Brandon</td>\n",
       "      <td>Brandon</td>\n",
       "      <td>43.5928</td>\n",
       "      <td>-96.5799</td>\n",
       "      <td>United States</td>\n",
       "      <td>US</td>\n",
       "      <td>USA</td>\n",
       "      <td>South Dakota</td>\n",
       "      <td>NaN</td>\n",
       "      <td>9232.0</td>\n",
       "      <td>1840002650</td>\n",
       "    </tr>\n",
       "    <tr>\n",
       "      <th>12891</th>\n",
       "      <td>Madison</td>\n",
       "      <td>Madison</td>\n",
       "      <td>44.0062</td>\n",
       "      <td>-97.1084</td>\n",
       "      <td>United States</td>\n",
       "      <td>US</td>\n",
       "      <td>USA</td>\n",
       "      <td>South Dakota</td>\n",
       "      <td>NaN</td>\n",
       "      <td>7081.0</td>\n",
       "      <td>1840002540</td>\n",
       "    </tr>\n",
       "    <tr>\n",
       "      <th>12892</th>\n",
       "      <td>Belle Fourche</td>\n",
       "      <td>Belle Fourche</td>\n",
       "      <td>44.6635</td>\n",
       "      <td>-103.8562</td>\n",
       "      <td>United States</td>\n",
       "      <td>US</td>\n",
       "      <td>USA</td>\n",
       "      <td>South Dakota</td>\n",
       "      <td>NaN</td>\n",
       "      <td>5297.0</td>\n",
       "      <td>1840002127</td>\n",
       "    </tr>\n",
       "  </tbody>\n",
       "</table>\n",
       "</div>"
      ],
      "text/plain": [
       "                city     city_ascii      lat       lng        country iso2  \\\n",
       "12888        Sturgis        Sturgis  44.4093 -103.5184  United States   US   \n",
       "12889            Tea            Tea  43.4515  -96.8346  United States   US   \n",
       "12890        Brandon        Brandon  43.5928  -96.5799  United States   US   \n",
       "12891        Madison        Madison  44.0062  -97.1084  United States   US   \n",
       "12892  Belle Fourche  Belle Fourche  44.6635 -103.8562  United States   US   \n",
       "\n",
       "      iso3    admin_name capital  population          id  \n",
       "12888  USA  South Dakota     NaN      6787.0  1840002174  \n",
       "12889  USA  South Dakota     NaN      5002.0  1840002841  \n",
       "12890  USA  South Dakota     NaN      9232.0  1840002650  \n",
       "12891  USA  South Dakota     NaN      7081.0  1840002540  \n",
       "12892  USA  South Dakota     NaN      5297.0  1840002127  "
      ]
     },
     "execution_count": 18,
     "metadata": {},
     "output_type": "execute_result"
    }
   ],
   "source": [
    "combined_dataset.tail()"
   ]
  },
  {
   "cell_type": "code",
   "execution_count": 19,
   "metadata": {},
   "outputs": [
    {
     "data": {
      "text/html": [
       "<div>\n",
       "<style scoped>\n",
       "    .dataframe tbody tr th:only-of-type {\n",
       "        vertical-align: middle;\n",
       "    }\n",
       "\n",
       "    .dataframe tbody tr th {\n",
       "        vertical-align: top;\n",
       "    }\n",
       "\n",
       "    .dataframe thead th {\n",
       "        text-align: right;\n",
       "    }\n",
       "</style>\n",
       "<table border=\"1\" class=\"dataframe\">\n",
       "  <thead>\n",
       "    <tr style=\"text-align: right;\">\n",
       "      <th></th>\n",
       "      <th>city</th>\n",
       "      <th>city_ascii</th>\n",
       "      <th>lat</th>\n",
       "      <th>lng</th>\n",
       "      <th>country</th>\n",
       "      <th>iso2</th>\n",
       "      <th>iso3</th>\n",
       "      <th>admin_name</th>\n",
       "      <th>capital</th>\n",
       "      <th>population</th>\n",
       "      <th>id</th>\n",
       "    </tr>\n",
       "  </thead>\n",
       "  <tbody>\n",
       "    <tr>\n",
       "      <th>0</th>\n",
       "      <td>Malishevë</td>\n",
       "      <td>Malisheve</td>\n",
       "      <td>42.4822</td>\n",
       "      <td>20.7458</td>\n",
       "      <td>Kosovo</td>\n",
       "      <td>XK</td>\n",
       "      <td>XKS</td>\n",
       "      <td>Malishevë</td>\n",
       "      <td>admin</td>\n",
       "      <td>NaN</td>\n",
       "      <td>1901597212</td>\n",
       "    </tr>\n",
       "    <tr>\n",
       "      <th>1</th>\n",
       "      <td>Prizren</td>\n",
       "      <td>Prizren</td>\n",
       "      <td>42.2139</td>\n",
       "      <td>20.7397</td>\n",
       "      <td>Kosovo</td>\n",
       "      <td>XK</td>\n",
       "      <td>XKS</td>\n",
       "      <td>Prizren</td>\n",
       "      <td>admin</td>\n",
       "      <td>NaN</td>\n",
       "      <td>1901360309</td>\n",
       "    </tr>\n",
       "    <tr>\n",
       "      <th>2</th>\n",
       "      <td>Zubin Potok</td>\n",
       "      <td>Zubin Potok</td>\n",
       "      <td>42.9144</td>\n",
       "      <td>20.6897</td>\n",
       "      <td>Kosovo</td>\n",
       "      <td>XK</td>\n",
       "      <td>XKS</td>\n",
       "      <td>Zubin Potok</td>\n",
       "      <td>admin</td>\n",
       "      <td>NaN</td>\n",
       "      <td>1901608808</td>\n",
       "    </tr>\n",
       "    <tr>\n",
       "      <th>3</th>\n",
       "      <td>Kamenicë</td>\n",
       "      <td>Kamenice</td>\n",
       "      <td>42.5781</td>\n",
       "      <td>21.5803</td>\n",
       "      <td>Kosovo</td>\n",
       "      <td>XK</td>\n",
       "      <td>XKS</td>\n",
       "      <td>Kamenicë</td>\n",
       "      <td>admin</td>\n",
       "      <td>NaN</td>\n",
       "      <td>1901851592</td>\n",
       "    </tr>\n",
       "    <tr>\n",
       "      <th>4</th>\n",
       "      <td>Viti</td>\n",
       "      <td>Viti</td>\n",
       "      <td>42.3214</td>\n",
       "      <td>21.3583</td>\n",
       "      <td>Kosovo</td>\n",
       "      <td>XK</td>\n",
       "      <td>XKS</td>\n",
       "      <td>Viti</td>\n",
       "      <td>admin</td>\n",
       "      <td>NaN</td>\n",
       "      <td>1901328795</td>\n",
       "    </tr>\n",
       "  </tbody>\n",
       "</table>\n",
       "</div>"
      ],
      "text/plain": [
       "          city   city_ascii      lat      lng country iso2 iso3   admin_name  \\\n",
       "0    Malishevë    Malisheve  42.4822  20.7458  Kosovo   XK  XKS    Malishevë   \n",
       "1      Prizren      Prizren  42.2139  20.7397  Kosovo   XK  XKS      Prizren   \n",
       "2  Zubin Potok  Zubin Potok  42.9144  20.6897  Kosovo   XK  XKS  Zubin Potok   \n",
       "3     Kamenicë     Kamenice  42.5781  21.5803  Kosovo   XK  XKS     Kamenicë   \n",
       "4         Viti         Viti  42.3214  21.3583  Kosovo   XK  XKS         Viti   \n",
       "\n",
       "  capital  population          id  \n",
       "0   admin         NaN  1901597212  \n",
       "1   admin         NaN  1901360309  \n",
       "2   admin         NaN  1901608808  \n",
       "3   admin         NaN  1901851592  \n",
       "4   admin         NaN  1901328795  "
      ]
     },
     "execution_count": 19,
     "metadata": {},
     "output_type": "execute_result"
    }
   ],
   "source": [
    "combined_dataset.head()"
   ]
  },
  {
   "cell_type": "code",
   "execution_count": 20,
   "metadata": {},
   "outputs": [
    {
     "data": {
      "text/plain": [
       "(12893, 11)"
      ]
     },
     "execution_count": 20,
     "metadata": {},
     "output_type": "execute_result"
    }
   ],
   "source": [
    "combined_dataset.shape"
   ]
  },
  {
   "cell_type": "code",
   "execution_count": 21,
   "metadata": {
    "collapsed": true
   },
   "outputs": [],
   "source": [
    "\n",
    "combined_dataset.drop(['admin_name', 'iso2', 'iso3',\"id\",\"city_ascii\"], axis=1,inplace=True)"
   ]
  },
  {
   "cell_type": "code",
   "execution_count": 22,
   "metadata": {
    "collapsed": true
   },
   "outputs": [],
   "source": [
    "df_combined = pd.DataFrame(combined_dataset)"
   ]
  },
  {
   "cell_type": "code",
   "execution_count": 23,
   "metadata": {},
   "outputs": [
    {
     "data": {
      "text/plain": [
       "(12893, 6)"
      ]
     },
     "execution_count": 23,
     "metadata": {},
     "output_type": "execute_result"
    }
   ],
   "source": [
    "df_combined.shape"
   ]
  },
  {
   "cell_type": "code",
   "execution_count": 24,
   "metadata": {
    "collapsed": true
   },
   "outputs": [],
   "source": [
    "df_combined['Lat'] = pd.to_numeric(df_combined['lat'])"
   ]
  },
  {
   "cell_type": "code",
   "execution_count": 25,
   "metadata": {
    "collapsed": true
   },
   "outputs": [],
   "source": [
    "df_combined['Long'] = pd.to_numeric(df_combined['lng'])"
   ]
  },
  {
   "cell_type": "code",
   "execution_count": 26,
   "metadata": {
    "collapsed": true
   },
   "outputs": [],
   "source": [
    "lat=0\n",
    "long=0\n",
    "\n",
    "map=folium.Map(location=[lat,long],zoom_start=2)\n",
    "map2=folium.Map(location=[lat,long],zoom_start=2)\n",
    "map3=folium.Map(location=[lat,long],zoom_start=2)\n",
    "map4=folium.Map(location=[lat,long],zoom_start=2)\n",
    "map5=folium.Map(location=[lat,long],zoom_start=2)\n",
    "map6=folium.Map(location=[lat,long],zoom_start=2)\n",
    "map7=folium.Map(location=[lat,long],zoom_start=2)\n",
    "map8=folium.Map(location=[lat,long],zoom_start=2)\n",
    "map9=folium.Map(location=[lat,long],zoom_start=2)\n",
    "map10=folium.Map(location=[lat,long],zoom_start=2)\n",
    "map11=folium.Map(location=[lat,long],zoom_start=2)\n",
    "map12=folium.Map(location=[lat,long],zoom_start=2)\n",
    "map13=folium.Map(location=[lat,long],zoom_start=2)\n",
    "map14=folium.Map(location=[lat,long],zoom_start=2)\n",
    "map15=folium.Map(location=[lat,long],zoom_start=2)\n",
    "map16=folium.Map(location=[lat,long],zoom_start=2)\n",
    "map17=folium.Map(location=[lat,long],zoom_start=2)\n",
    "map18=folium.Map(location=[lat,long],zoom_start=2)\n",
    "map19=folium.Map(location=[lat,long],zoom_start=2)"
   ]
  },
  {
   "cell_type": "code",
   "execution_count": 27,
   "metadata": {
    "collapsed": true
   },
   "outputs": [],
   "source": [
    "df_combined = df_combined[df_combined['population'].notnull()]\n",
    "df_combined = df_combined[df_combined['population']>1000000]"
   ]
  },
  {
   "cell_type": "code",
   "execution_count": 28,
   "metadata": {},
   "outputs": [
    {
     "data": {
      "text/html": [
       "<div style=\"width:100%;\"><div style=\"position:relative;width:100%;height:0;padding-bottom:60%;\"><iframe src=\"data:text/html;charset=utf-8;base64,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\" style=\"position:absolute;width:100%;height:100%;left:0;top:0;border:none !important;\" allowfullscreen webkitallowfullscreen mozallowfullscreen></iframe></div></div>"
      ],
      "text/plain": [
       "<folium.folium.Map at 0x20fb76daeb8>"
      ]
     },
     "execution_count": 28,
     "metadata": {},
     "output_type": "execute_result"
    }
   ],
   "source": [
    "for row in df_combined.iterrows():\n",
    "    row_values = row[1]\n",
    "    location = [row_values['Lat'], row_values['Long']]\n",
    "    marker = folium.CircleMarker(location=location,radius=1)\n",
    "    marker.add_to(map)\n",
    "map"
   ]
  },
  {
   "cell_type": "code",
   "execution_count": 29,
   "metadata": {
    "collapsed": true
   },
   "outputs": [],
   "source": [
    "\n",
    "\n",
    "eq=pd.read_csv('data_combined.csv')"
   ]
  },
  {
   "cell_type": "code",
   "execution_count": 30,
   "metadata": {
    "collapsed": true
   },
   "outputs": [],
   "source": [
    "eq[\"indexler\"]=1"
   ]
  },
  {
   "cell_type": "code",
   "execution_count": 31,
   "metadata": {
    "collapsed": true
   },
   "outputs": [],
   "source": [
    "df_combined[\"indexler\"]=1"
   ]
  },
  {
   "cell_type": "code",
   "execution_count": 32,
   "metadata": {
    "collapsed": true
   },
   "outputs": [],
   "source": [
    "data_ready=df_combined.merge(eq, left_on='indexler', right_on='indexler', how='outer')"
   ]
  },
  {
   "cell_type": "code",
   "execution_count": 33,
   "metadata": {
    "collapsed": true
   },
   "outputs": [],
   "source": [
    "data_ready.Lat_y=pd.to_numeric(data_ready.Lat_y,errors='coerce')\n",
    "data_ready.Long_y=pd.to_numeric(data_ready.Long_y,errors='coerce')"
   ]
  },
  {
   "cell_type": "code",
   "execution_count": 34,
   "metadata": {
    "collapsed": true
   },
   "outputs": [],
   "source": [
    "data_ready=data_ready.dropna(subset=['lat', 'lng','Lat_y', 'Long_y'])"
   ]
  },
  {
   "cell_type": "code",
   "execution_count": 35,
   "metadata": {
    "collapsed": true
   },
   "outputs": [],
   "source": [
    "data_ready[\"dist\"]=10000"
   ]
  },
  {
   "cell_type": "code",
   "execution_count": 36,
   "metadata": {
    "collapsed": true
   },
   "outputs": [],
   "source": [
    "data_ready[\"dist\"]=data_ready.apply(lambda row : mpu.haversine_distance((row[\"lat\"], row[\"lng\"]), (row[\"Lat_y\"], row[\"Long_y\"])),axis=1)"
   ]
  },
  {
   "cell_type": "code",
   "execution_count": 37,
   "metadata": {
    "collapsed": true
   },
   "outputs": [],
   "source": [
    "data_ready.to_pickle(\"./data_ready_with_dist.pkl\")"
   ]
  },
  {
   "cell_type": "code",
   "execution_count": 38,
   "metadata": {
    "collapsed": true
   },
   "outputs": [],
   "source": [
    "data_ready = data_ready.loc[(data_ready.dist < 100)]"
   ]
  },
  {
   "cell_type": "code",
   "execution_count": 39,
   "metadata": {},
   "outputs": [
    {
     "data": {
      "text/html": [
       "<div style=\"width:100%;\"><div style=\"position:relative;width:100%;height:0;padding-bottom:60%;\"><iframe src=\"data:text/html;charset=utf-8;base64,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\" style=\"position:absolute;width:100%;height:100%;left:0;top:0;border:none !important;\" allowfullscreen webkitallowfullscreen mozallowfullscreen></iframe></div></div>"
      ],
      "text/plain": [
       "<folium.folium.Map at 0x20fb781ed68>"
      ]
     },
     "execution_count": 39,
     "metadata": {},
     "output_type": "execute_result"
    }
   ],
   "source": [
    "map18 =folium.Map(location=[lat,long],zoom_start=2)\n",
    "\n",
    "for row in data_ready.iterrows():\n",
    "    row_values = row[1]\n",
    "    location = [row_values['Lat_x'], row_values['Long_x']]\n",
    "    #marker = folium.CircleMarker(location=location,radius=1)\n",
    "    marker.add_to(map18)\n",
    "    \n",
    "    def color(indexler):\n",
    "    \n",
    "        if indexler<=2:\n",
    "            col='green'\n",
    "        elif ((indexler>2)&(indexler<=5)):\n",
    "            col='blue'\n",
    "        elif (indexler>5):\n",
    "            col='red'\n",
    "        return col   \n",
    "map18.add_child(MarkerCluster(locations=list(zip(data_ready['Lat_x'], \n",
    "                                 data_ready['Long_x'])),\n",
    "                                 popups=\" number of earthquakes: \" + data_ready['indexler'].astype(str) +' <br\\>'+ \"deaths: \" + data_ready['Deaths'].astype(str),\n",
    "                                 icons=[color(m) for m in data_ready['indexler']]))\n",
    "\n",
    "\n",
    "\n",
    "map18"
   ]
  },
  {
   "cell_type": "code",
   "execution_count": 40,
   "metadata": {
    "collapsed": true
   },
   "outputs": [],
   "source": [
    "def color(indexler):\n",
    "    if indexler<=2:\n",
    "        col='green'\n",
    "    elif ((indexler>2)&(indexler<=5)):\n",
    "        col='blue'\n",
    "    elif (indexler>5):\n",
    "        col='red'\n",
    "    return col"
   ]
  },
  {
   "cell_type": "code",
   "execution_count": 41,
   "metadata": {},
   "outputs": [
    {
     "data": {
      "text/html": [
       "<div style=\"width:100%;\"><div style=\"position:relative;width:100%;height:0;padding-bottom:60%;\"><iframe src=\"data:text/html;charset=utf-8;base64,PCFET0NUWVBFIGh0bWw+CjxoZWFkPiAgICAKICAgIDxtZXRhIGh0dHAtZXF1aXY9ImNvbnRlbnQtdHlwZSIgY29udGVudD0idGV4dC9odG1sOyBjaGFyc2V0PVVURi04IiAvPgogICAgPHNjcmlwdD5MX1BSRUZFUl9DQU5WQVM9ZmFsc2U7IExfTk9fVE9VQ0g9ZmFsc2U7IExfRElTQUJMRV8zRD1mYWxzZTs8L3NjcmlwdD4KICAgIDxzY3JpcHQgc3JjPSJodHRwczovL2Nkbi5qc2RlbGl2ci5uZXQvbnBtL2xlYWZsZXRAMS4yLjAvZGlzdC9sZWFmbGV0LmpzIj48L3NjcmlwdD4KICAgIDxzY3JpcHQgc3JjPSJodHRwczovL2FqYXguZ29vZ2xlYXBpcy5jb20vYWpheC9saWJzL2pxdWVyeS8xLjExLjEvanF1ZXJ5Lm1pbi5qcyI+PC9zY3JpcHQ+CiAgICA8c2NyaXB0IHNyYz0iaHR0cHM6Ly9tYXhjZG4uYm9vdHN0cmFwY2RuLmNvbS9ib290c3RyYXAvMy4yLjAvanMvYm9vdHN0cmFwLm1pbi5qcyI+PC9zY3JpcHQ+CiAgICA8c2NyaXB0IHNyYz0iaHR0cHM6Ly9jZG5qcy5jbG91ZGZsYXJlLmNvbS9hamF4L2xpYnMvTGVhZmxldC5hd2Vzb21lLW1hcmtlcnMvMi4wLjIvbGVhZmxldC5hd2Vzb21lLW1hcmtlcnMuanMiPjwvc2NyaXB0PgogICAgPGxpbmsgcmVsPSJzdHlsZXNoZWV0IiBocmVmPSJodHRwczovL2Nkbi5qc2RlbGl2ci5uZXQvbnBtL2xlYWZsZXRAMS4yLjAvZGlzdC9sZWFmbGV0LmNzcyIvPgogICAgPGxpbmsgcmVsPSJzdHlsZXNoZWV0IiBocmVmPSJodHRwczovL21heGNkbi5ib290c3RyYXBjZG4uY29tL2Jvb3RzdHJhcC8zLjIuMC9jc3MvYm9vdHN0cmFwLm1pbi5jc3MiLz4KICAgIDxsaW5rIHJlbD0ic3R5bGVzaGVldCIgaHJlZj0iaHR0cHM6Ly9tYXhjZG4uYm9vdHN0cmFwY2RuLmNvbS9ib290c3RyYXAvMy4yLjAvY3NzL2Jvb3RzdHJhcC10aGVtZS5taW4uY3NzIi8+CiAgICA8bGluayByZWw9InN0eWxlc2hlZXQiIGhyZWY9Imh0dHBzOi8vbWF4Y2RuLmJvb3RzdHJhcGNkbi5jb20vZm9udC1hd2Vzb21lLzQuNi4zL2Nzcy9mb250LWF3ZXNvbWUubWluLmNzcyIvPgogICAgPGxpbmsgcmVsPSJzdHlsZXNoZWV0IiBocmVmPSJodHRwczovL2NkbmpzLmNsb3VkZmxhcmUuY29tL2FqYXgvbGlicy9MZWFmbGV0LmF3ZXNvbWUtbWFya2Vycy8yLjAuMi9sZWFmbGV0LmF3ZXNvbWUtbWFya2Vycy5jc3MiLz4KICAgIDxsaW5rIHJlbD0ic3R5bGVzaGVldCIgaHJlZj0iaHR0cHM6Ly9yYXdnaXQuY29tL3B5dGhvbi12aXN1YWxpemF0aW9uL2ZvbGl1bS9tYXN0ZXIvZm9saXVtL3RlbXBsYXRlcy9sZWFmbGV0LmF3ZXNvbWUucm90YXRlLmNzcyIvPgogICAgPHN0eWxlPmh0bWwsIGJvZHkge3dpZHRoOiAxMDAlO2hlaWdodDogMTAwJTttYXJnaW46IDA7cGFkZGluZzogMDt9PC9zdHlsZT4KICAgIDxzdHlsZT4jbWFwIHtwb3NpdGlvbjphYnNvbHV0ZTt0b3A6MDtib3R0b206MDtyaWdodDowO2xlZnQ6MDt9PC9zdHlsZT4KICAgIAogICAgPHN0eWxlPiNtYXBfOGVlNjNlODIyZjk0NGFlMWFiYTNkZDE1MjI3NmU2MzggewogICAgICAgIHBvc2l0aW9uOiByZWxhdGl2ZTsKICAgICAgICB3aWR0aDogMTAwLjAlOwogICAgICAgIGhlaWdodDogMTAwLjAlOwogICAgICAgIGxlZnQ6IDAuMCU7CiAgICAgICAgdG9wOiAwLjAlOwogICAgICAgIH0KICAgIDwvc3R5bGU+CiAgICA8c2NyaXB0IHNyYz0iaHR0cHM6Ly9jZG5qcy5jbG91ZGZsYXJlLmNvbS9hamF4L2xpYnMvbGVhZmxldC5tYXJrZXJjbHVzdGVyLzEuMS4wL2xlYWZsZXQubWFya2VyY2x1c3Rlci5qcyI+PC9zY3JpcHQ+CiAgICA8bGluayByZWw9InN0eWxlc2hlZXQiIGhyZWY9Imh0dHBzOi8vY2RuanMuY2xvdWRmbGFyZS5jb20vYWpheC9saWJzL2xlYWZsZXQubWFya2VyY2x1c3Rlci8xLjEuMC9NYXJrZXJDbHVzdGVyLmNzcyIvPgogICAgPGxpbmsgcmVsPSJzdHlsZXNoZWV0IiBocmVmPSJodHRwczovL2NkbmpzLmNsb3VkZmxhcmUuY29tL2FqYXgvbGlicy9sZWFmbGV0Lm1hcmtlcmNsdXN0ZXIvMS4xLjAvTWFya2VyQ2x1c3Rlci5EZWZhdWx0LmNzcyIvPgo8L2hlYWQ+Cjxib2R5PiAgICAKICAgIAogICAgPGRpdiBjbGFzcz0iZm9saXVtLW1hcCIgaWQ9Im1hcF84ZWU2M2U4MjJmOTQ0YWUxYWJhM2RkMTUyMjc2ZTYzOCIgPjwvZGl2Pgo8L2JvZHk+CjxzY3JpcHQ+ICAgIAogICAgCiAgICAKICAgICAgICB2YXIgYm91bmRzID0gbnVsbDsKICAgIAoKICAgIHZhciBtYXBfOGVlNjNlODIyZjk0NGFlMWFiYTNkZDE1MjI3NmU2MzggPSBMLm1hcCgKICAgICAgICAnbWFwXzhlZTYzZTgyMmY5NDRhZTFhYmEzZGQxNTIyNzZlNjM4JywgewogICAgICAgIGNlbnRlcjogWzAsIDBdLAogICAgICAgIHpvb206IDIsCiAgICAgICAgbWF4Qm91bmRzOiBib3VuZHMsCiAgICAgICAgbGF5ZXJzOiBbXSwKICAgICAgICB3b3JsZENvcHlKdW1wOiBmYWxzZSwKICAgICAgICBjcnM6IEwuQ1JTLkVQU0czODU3LAogICAgICAgIHpvb21Db250cm9sOiB0cnVlLAogICAgICAgIH0pOwoKICAgIAogICAgCiAgICB2YXIgdGlsZV9sYXllcl8xNmFlMjM5ODAxZTk0Y2NlOWVmZWZhM2JhZmU4NmViNCA9IEwudGlsZUxheWVyKAogICAgICAgICdodHRwczovL3tzfS50aWxlLm9wZW5zdHJlZXRtYXAub3JnL3t6fS97eH0ve3l9LnBuZycsCiAgICAgICAgewogICAgICAgICJhdHRyaWJ1dGlvbiI6IG51bGwsCiAgICAgICAgImRldGVjdFJldGluYSI6IGZhbHNlLAogICAgICAgICJtYXhOYXRpdmVab29tIjogMTgsCiAgICAgICAgIm1heFpvb20iOiAxOCwKICAgICAgICAibWluWm9vbSI6IDAsCiAgICAgICAgIm5vV3JhcCI6IGZhbHNlLAogICAgICAgICJzdWJkb21haW5zIjogImFiYyIKfSkuYWRkVG8obWFwXzhlZTYzZTgyMmY5NDRhZTFhYmEzZGQxNTIyNzZlNjM4KTsKICAgIAogICAgICAgICAgICB2YXIgbWFya2VyX2NsdXN0ZXJfMjdmNDE4ZThiYmUyNGU3N2IzYjYxNGQ4NThhNzhkYzQgPSBMLm1hcmtlckNsdXN0ZXJHcm91cCh7fSk7CiAgICAgICAgICAgIG1hcF84ZWU2M2U4MjJmOTQ0YWUxYWJhM2RkMTUyMjc2ZTYzOC5hZGRMYXllcihtYXJrZXJfY2x1c3Rlcl8yN2Y0MThlOGJiZTI0ZTc3YjNiNjE0ZDg1OGE3OGRjNCk7CiAgICAgICAgICAgIAogICAgCiAgICAgICAgICAgIHZhciBjaXJjbGVfbWFya2VyXzRhNjljNjVkOTc1MTQ4OTI4MjQ3MTQ2NmQ5NTBhNzk3ID0gTC5jaXJjbGVNYXJrZXIoCiAgICAgICAgICAgICAgICBbMTkuNDQyNCwgLTk5LjEzMV0sCiAgICAgICAgICAgICAgICB7CiAgImJ1YmJsaW5nTW91c2VFdmVudHMiOiB0cnVlLAogICJjb2xvciI6ICJncmVlbiIsCiAgImRhc2hBcnJheSI6IG51bGwsCiAgImRhc2hPZmZzZXQiOiBudWxsLAogICJmaWxsIjogdHJ1ZSwKICAiZmlsbENvbG9yIjogImdyZWVuIiwKICAiZmlsbE9wYWNpdHkiOiAwLjUsCiAgImZpbGxSdWxlIjogImV2ZW5vZGQiLAogICJsaW5lQ2FwIjogInJvdW5kIiwKICAibGluZUpvaW4iOiAicm91bmQiLAogICJvcGFjaXR5IjogMS4wLAogICJyYWRpdXMiOiAwLjE2NCwKICAic3Ryb2tlIjogdHJ1ZSwKICAid2VpZ2h0IjogMwp9CiAgICAgICAgICAgICAgICApCiAgICAgICAgICAgICAgICAuYWRkVG8obWFya2VyX2NsdXN0ZXJfMjdmNDE4ZThiYmUyNGU3N2IzYjYxNGQ4NThhNzhkYzQpOwogICAgICAgICAgICAKICAgIAogICAgICAgICAgICB2YXIgcG9wdXBfODY2OGEyNDQwNTcxNDc0NmFhMTc0ZTc5ODIxODFiMGQgPSBMLnBvcHVwKHttYXhXaWR0aDogJzMwMCcKICAgICAgICAgICAgCiAgICAgICAgICAgIH0pOwoKICAgICAgICAgICAgCiAgICAgICAgICAgICAgICB2YXIgaHRtbF9mNWJhYWZjYWM0ODE0ZjJkYTI5Njk3Y2I5NjBkZDVhMSA9ICQoJzxkaXYgaWQ9Imh0bWxfZjViYWFmY2FjNDgxNGYyZGEyOTY5N2NiOTYwZGQ1YTEiIHN0eWxlPSJ3aWR0aDogMTAwLjAlOyBoZWlnaHQ6IDEwMC4wJTsiPiBudW1iZXIgb2YgZWFydGhxdWFrZXM6IDEgPGJyXD5kZWF0aHM6IDE2NC4wPC9kaXY+JylbMF07CiAgICAgICAgICAgICAgICBwb3B1cF84NjY4YTI0NDA1NzE0NzQ2YWExNzRlNzk4MjE4MWIwZC5zZXRDb250ZW50KGh0bWxfZjViYWFmY2FjNDgxNGYyZGEyOTY5N2NiOTYwZGQ1YTEpOwogICAgICAgICAgICAKCiAgICAgICAgICAgIGNpcmNsZV9tYXJrZXJfNGE2OWM2NWQ5NzUxNDg5MjgyNDcxNDY2ZDk1MGE3OTcuYmluZFBvcHVwKHBvcHVwXzg2NjhhMjQ0MDU3MTQ3NDZhYTE3NGU3OTgyMTgxYjBkKQogICAgICAgICAgICA7CgogICAgICAgICAgICAKICAgICAgICAKICAgIAogICAgICAgICAgICB2YXIgY2lyY2xlX21hcmtlcl9hNDAyNjIzYWUzNTY0NTM3ODUzYjk3ZGU2MWQ3M2E0OSA9IEwuY2lyY2xlTWFya2VyKAogICAgICAgICAgICAgICAgWzE0LjYwNDIsIDEyMC45ODIyXSwKICAgICAgICAgICAgICAgIHsKICAiYnViYmxpbmdNb3VzZUV2ZW50cyI6IHRydWUsCiAgImNvbG9yIjogImdyZWVuIiwKICAiZGFzaEFycmF5IjogbnVsbCwKICAiZGFzaE9mZnNldCI6IG51bGwsCiAgImZpbGwiOiB0cnVlLAogICJmaWxsQ29sb3IiOiAiZ3JlZW4iLAogICJmaWxsT3BhY2l0eSI6IDAuNSwKICAiZmlsbFJ1bGUiOiAiZXZlbm9kZCIsCiAgImxpbmVDYXAiOiAicm91bmQiLAogICJsaW5lSm9pbiI6ICJyb3VuZCIsCiAgIm9wYWNpdHkiOiAxLjAsCiAgInJhZGl1cyI6IDAuMDAxLAogICJzdHJva2UiOiB0cnVlLAogICJ3ZWlnaHQiOiAzCn0KICAgICAgICAgICAgICAgICkKICAgICAgICAgICAgICAgIC5hZGRUbyhtYXJrZXJfY2x1c3Rlcl8yN2Y0MThlOGJiZTI0ZTc3YjNiNjE0ZDg1OGE3OGRjNCk7CiAgICAgICAgICAgIAogICAgCiAgICAgICAgICAgIHZhciBwb3B1cF8xZmVhZWI3NDdmYzc0NGZmOTViMGQzM2M1ZDE1Y2Q4YiA9IEwucG9wdXAoe21heFdpZHRoOiAnMzAwJwogICAgICAgICAgICAKICAgICAgICAgICAgfSk7CgogICAgICAgICAgICAKICAgICAgICAgICAgICAgIHZhciBodG1sX2IwMmM3ODI4ZWFhMjQ2NjBiODUyZmQwYTdiNDMyOTEwID0gJCgnPGRpdiBpZD0iaHRtbF9iMDJjNzgyOGVhYTI0NjYwYjg1MmZkMGE3YjQzMjkxMCIgc3R5bGU9IndpZHRoOiAxMDAuMCU7IGhlaWdodDogMTAwLjAlOyI+IG51bWJlciBvZiBlYXJ0aHF1YWtlczogMSA8YnJcPmRlYXRoczogMS4wPC9kaXY+JylbMF07CiAgICAgICAgICAgICAgICBwb3B1cF8xZmVhZWI3NDdmYzc0NGZmOTViMGQzM2M1ZDE1Y2Q4Yi5zZXRDb250ZW50KGh0bWxfYjAyYzc4MjhlYWEyNDY2MGI4NTJmZDBhN2I0MzI5MTApOwogICAgICAgICAgICAKCiAgICAgICAgICAgIGNpcmNsZV9tYXJrZXJfYTQwMjYyM2FlMzU2NDUzNzg1M2I5N2RlNjFkNzNhNDkuYmluZFBvcHVwKHBvcHVwXzFmZWFlYjc0N2ZjNzQ0ZmY5NWIwZDMzYzVkMTVjZDhiKQogICAgICAgICAgICA7CgogICAgICAgICAgICAKICAgICAgICAKICAgIAogICAgICAgICAgICB2YXIgY2lyY2xlX21hcmtlcl9lMDQxYjk5NGMwY2Q0ODliYjQwYzQ5MGUwN2I1ZDViNyA9IEwuY2lyY2xlTWFya2VyKAogICAgICAgICAgICAgICAgWzE0LjYwNDIsIDEyMC45ODIyXSwKICAgICAgICAgICAgICAgIHsKICAiYnViYmxpbmdNb3VzZUV2ZW50cyI6IHRydWUsCiAgImNvbG9yIjogImdyZWVuIiwKICAiZGFzaEFycmF5IjogbnVsbCwKICAiZGFzaE9mZnNldCI6IG51bGwsCiAgImZpbGwiOiB0cnVlLAogICJmaWxsQ29sb3IiOiAiZ3JlZW4iLAogICJmaWxsT3BhY2l0eSI6IDAuNSwKICAiZmlsbFJ1bGUiOiAiZXZlbm9kZCIsCiAgImxpbmVDYXAiOiAicm91bmQiLAogICJsaW5lSm9pbiI6ICJyb3VuZCIsCiAgIm9wYWNpdHkiOiAxLjAsCiAgInJhZGl1cyI6IDAuMTM3LAogICJzdHJva2UiOiB0cnVlLAogICJ3ZWlnaHQiOiAzCn0KICAgICAgICAgICAgICAgICkKICAgICAgICAgICAgICAgIC5hZGRUbyhtYXJrZXJfY2x1c3Rlcl8yN2Y0MThlOGJiZTI0ZTc3YjNiNjE0ZDg1OGE3OGRjNCk7CiAgICAgICAgICAgIAogICAgCiAgICAgICAgICAgIHZhciBwb3B1cF9iZTU2MjM5M2I3YWE0ZTY2OThkYzIyYjBkNWQ2NDMxZiA9IEwucG9wdXAoe21heFdpZHRoOiAnMzAwJwogICAgICAgICAgICAKICAgICAgICAgICAgfSk7CgogICAgICAgICAgICAKICAgICAgICAgICAgICAgIHZhciBodG1sX2Y1Y2QzY2E4M2ZmOTRiNDU5ZTA5NDcyNmYyYjIwYTUxID0gJCgnPGRpdiBpZD0iaHRtbF9mNWNkM2NhODNmZjk0YjQ1OWUwOTQ3MjZmMmIyMGE1MSIgc3R5bGU9IndpZHRoOiAxMDAuMCU7IGhlaWdodDogMTAwLjAlOyI+IG51bWJlciBvZiBlYXJ0aHF1YWtlczogMSA8YnJcPmRlYXRoczogMTM3LjA8L2Rpdj4nKVswXTsKICAgICAgICAgICAgICAgIHBvcHVwX2JlNTYyMzkzYjdhYTRlNjY5OGRjMjJiMGQ1ZDY0MzFmLnNldENvbnRlbnQoaHRtbF9mNWNkM2NhODNmZjk0YjQ1OWUwOTQ3MjZmMmIyMGE1MSk7CiAgICAgICAgICAgIAoKICAgICAgICAgICAgY2lyY2xlX21hcmtlcl9lMDQxYjk5NGMwY2Q0ODliYjQwYzQ5MGUwN2I1ZDViNy5iaW5kUG9wdXAocG9wdXBfYmU1NjIzOTNiN2FhNGU2Njk4ZGMyMmIwZDVkNjQzMWYpCiAgICAgICAgICAgIDsKCiAgICAgICAgICAgIAogICAgICAgIAogICAgCiAgICAgICAgICAgIHZhciBjaXJjbGVfbWFya2VyXzA2ODFiOTVlM2IzODQ2MjQ5YTk0Mjk4YjExOGFlZjc1ID0gTC5jaXJjbGVNYXJrZXIoCiAgICAgICAgICAgICAgICBbNDEuMTA1LCAyOS4wMV0sCiAgICAgICAgICAgICAgICB7CiAgImJ1YmJsaW5nTW91c2VFdmVudHMiOiB0cnVlLAogICJjb2xvciI6ICJncmVlbiIsCiAgImRhc2hBcnJheSI6IG51bGwsCiAgImRhc2hPZmZzZXQiOiBudWxsLAogICJmaWxsIjogdHJ1ZSwKICAiZmlsbENvbG9yIjogImdyZWVuIiwKICAiZmlsbE9wYWNpdHkiOiAwLjUsCiAgImZpbGxSdWxlIjogImV2ZW5vZGQiLAogICJsaW5lQ2FwIjogInJvdW5kIiwKICAibGluZUpvaW4iOiAicm91bmQiLAogICJvcGFjaXR5IjogMS4wLAogICJyYWRpdXMiOiA0NS4wLAogICJzdHJva2UiOiB0cnVlLAogICJ3ZWlnaHQiOiAzCn0KICAgICAgICAgICAgICAgICkKICAgICAgICAgICAgICAgIC5hZGRUbyhtYXJrZXJfY2x1c3Rlcl8yN2Y0MThlOGJiZTI0ZTc3YjNiNjE0ZDg1OGE3OGRjNCk7CiAgICAgICAgICAgIAogICAgCiAgICAgICAgICAgIHZhciBwb3B1cF82ZDhlODY4ZTBiYWQ0NDEzYmVkMjliMDU2YmVmMmZlNiA9IEwucG9wdXAoe21heFdpZHRoOiAnMzAwJwogICAgICAgICAgICAKICAgICAgICAgICAgfSk7CgogICAgICAgICAgICAKICAgICAgICAgICAgICAgIHZhciBodG1sXzUxNGY4ODUwM2QxYTQ3ZGRiNzg0ODU2ZTNmNDg5NGMxID0gJCgnPGRpdiBpZD0iaHRtbF81MTRmODg1MDNkMWE0N2RkYjc4NDg1NmUzZjQ4OTRjMSIgc3R5bGU9IndpZHRoOiAxMDAuMCU7IGhlaWdodDogMTAwLjAlOyI+IG51bWJlciBvZiBlYXJ0aHF1YWtlczogMSA8YnJcPmRlYXRoczogNDUwMDAuMDwvZGl2PicpWzBdOwogICAgICAgICAgICAgICAgcG9wdXBfNmQ4ZTg2OGUwYmFkNDQxM2JlZDI5YjA1NmJlZjJmZTYuc2V0Q29udGVudChodG1sXzUxNGY4ODUwM2QxYTQ3ZGRiNzg0ODU2ZTNmNDg5NGMxKTsKICAgICAgICAgICAgCgogICAgICAgICAgICBjaXJjbGVfbWFya2VyXzA2ODFiOTVlM2IzODQ2MjQ5YTk0Mjk4YjExOGFlZjc1LmJpbmRQb3B1cChwb3B1cF82ZDhlODY4ZTBiYWQ0NDEzYmVkMjliMDU2YmVmMmZlNikKICAgICAgICAgICAgOwoKICAgICAgICAgICAgCiAgICAgICAgCiAgICAKICAgICAgICAgICAgdmFyIGNpcmNsZV9tYXJrZXJfNWEzMmZmMTdkYjk4NGFjYjgwZGVjZTNkYzU2MTYyYTkgPSBMLmNpcmNsZU1hcmtlcigKICAgICAgICAgICAgICAgIFs0MS4xMDUsIDI5LjAxXSwKICAgICAgICAgICAgICAgIHsKICAiYnViYmxpbmdNb3VzZUV2ZW50cyI6IHRydWUsCiAgImNvbG9yIjogImdyZWVuIiwKICAiZGFzaEFycmF5IjogbnVsbCwKICAiZGFzaE9mZnNldCI6IG51bGwsCiAgImZpbGwiOiB0cnVlLAogICJmaWxsQ29sb3IiOiAiZ3JlZW4iLAogICJmaWxsT3BhY2l0eSI6IDAuNSwKICAiZmlsbFJ1bGUiOiAiZXZlbm9kZCIsCiAgImxpbmVDYXAiOiAicm91bmQiLAogICJsaW5lSm9pbiI6ICJyb3VuZCIsCiAgIm9wYWNpdHkiOiAxLjAsCiAgInJhZGl1cyI6IDAuMDAxLAogICJzdHJva2UiOiB0cnVlLAogICJ3ZWlnaHQiOiAzCn0KICAgICAgICAgICAgICAgICkKICAgICAgICAgICAgICAgIC5hZGRUbyhtYXJrZXJfY2x1c3Rlcl8yN2Y0MThlOGJiZTI0ZTc3YjNiNjE0ZDg1OGE3OGRjNCk7CiAgICAgICAgICAgIAogICAgCiAgICAgICAgICAgIHZhciBwb3B1cF85MDQzMWYxYjM2MjA0YWFkYTQxYTRhOThlNDFiMzA1NiA9IEwucG9wdXAoe21heFdpZHRoOiAnMzAwJwogICAgICAgICAgICAKICAgICAgICAgICAgfSk7CgogICAgICAgICAgICAKICAgICAgICAgICAgICAgIHZhciBodG1sXzgxNTMyZGUxMjE3ZjQ1OGNiOGUzOWI0MzJlYTcyMjM5ID0gJCgnPGRpdiBpZD0iaHRtbF84MTUzMmRlMTIxN2Y0NThjYjhlMzliNDMyZWE3MjIzOSIgc3R5bGU9IndpZHRoOiAxMDAuMCU7IGhlaWdodDogMTAwLjAlOyI+IG51bWJlciBvZiBlYXJ0aHF1YWtlczogMSA8YnJcPmRlYXRoczogMS4wPC9kaXY+JylbMF07CiAgICAgICAgICAgICAgICBwb3B1cF85MDQzMWYxYjM2MjA0YWFkYTQxYTRhOThlNDFiMzA1Ni5zZXRDb250ZW50KGh0bWxfODE1MzJkZTEyMTdmNDU4Y2I4ZTM5YjQzMmVhNzIyMzkpOwogICAgICAgICAgICAKCiAgICAgICAgICAgIGNpcmNsZV9tYXJrZXJfNWEzMmZmMTdkYjk4NGFjYjgwZGVjZTNkYzU2MTYyYTkuYmluZFBvcHVwKHBvcHVwXzkwNDMxZjFiMzYyMDRhYWRhNDFhNGE5OGU0MWIzMDU2KQogICAgICAgICAgICA7CgogICAgICAgICAgICAKICAgICAgICAKICAgIAogICAgICAgICAgICB2YXIgY2lyY2xlX21hcmtlcl9kZWM0NjJjZjVkNGM0MjFiYTI0YTA0NTBjNjY5MGMxZSA9IEwuY2lyY2xlTWFya2VyKAogICAgICAgICAgICAgICAgWzQxLjEwNSwgMjkuMDFdLAogICAgICAgICAgICAgICAgewogICJidWJibGluZ01vdXNlRXZlbnRzIjogdHJ1ZSwKICAiY29sb3IiOiAiZ3JlZW4iLAogICJkYXNoQXJyYXkiOiBudWxsLAogICJkYXNoT2Zmc2V0IjogbnVsbCwKICAiZmlsbCI6IHRydWUsCiAgImZpbGxDb2xvciI6ICJncmVlbiIsCiAgImZpbGxPcGFjaXR5IjogMC41LAogICJmaWxsUnVsZSI6ICJldmVub2RkIiwKICAibGluZUNhcCI6ICJyb3VuZCIsCiAgImxpbmVKb2luIjogInJvdW5kIiwKICAib3BhY2l0eSI6IDEuMCwKICAicmFkaXVzIjogMC4wMDcsCiAgInN0cm9rZSI6IHRydWUsCiAgIndlaWdodCI6IDMKfQogICAgICAgICAgICAgICAgKQogICAgICAgICAgICAgICAgLmFkZFRvKG1hcmtlcl9jbHVzdGVyXzI3ZjQxOGU4YmJlMjRlNzdiM2I2MTRkODU4YTc4ZGM0KTsKICAgICAgICAgICAgCiAgICAKICAgICAgICAgICAgdmFyIHBvcHVwXzFhYjAzZTRjYzY2ZDQzZDNhYmVhMTcxYjczOWZiOTQ1ID0gTC5wb3B1cCh7bWF4V2lkdGg6ICczMDAnCiAgICAgICAgICAgIAogICAgICAgICAgICB9KTsKCiAgICAgICAgICAgIAogICAgICAgICAgICAgICAgdmFyIGh0bWxfNmFiYmMyYmVlODZhNDcyY2E1NjZiNzQ2NWFmNzA2MGUgPSAkKCc8ZGl2IGlkPSJodG1sXzZhYmJjMmJlZTg2YTQ3MmNhNTY2Yjc0NjVhZjcwNjBlIiBzdHlsZT0id2lkdGg6IDEwMC4wJTsgaGVpZ2h0OiAxMDAuMCU7Ij4gbnVtYmVyIG9mIGVhcnRocXVha2VzOiAxIDxiclw+ZGVhdGhzOiA3LjA8L2Rpdj4nKVswXTsKICAgICAgICAgICAgICAgIHBvcHVwXzFhYjAzZTRjYzY2ZDQzZDNhYmVhMTcxYjczOWZiOTQ1LnNldENvbnRlbnQoaHRtbF82YWJiYzJiZWU4NmE0NzJjYTU2NmI3NDY1YWY3MDYwZSk7CiAgICAgICAgICAgIAoKICAgICAgICAgICAgY2lyY2xlX21hcmtlcl9kZWM0NjJjZjVkNGM0MjFiYTI0YTA0NTBjNjY5MGMxZS5iaW5kUG9wdXAocG9wdXBfMWFiMDNlNGNjNjZkNDNkM2FiZWExNzFiNzM5ZmI5NDUpCiAgICAgICAgICAgIDsKCiAgICAgICAgICAgIAogICAgICAgIAogICAgCiAgICAgICAgICAgIHZhciBjaXJjbGVfbWFya2VyX2EzZmE0MmNhYzk3ZTQ3MDZiNzY3YzhmMWZkM2EzMWU0ID0gTC5jaXJjbGVNYXJrZXIoCiAgICAgICAgICAgICAgICBbNDEuMTA1LCAyOS4wMV0sCiAgICAgICAgICAgICAgICB7CiAgImJ1YmJsaW5nTW91c2VFdmVudHMiOiB0cnVlLAogICJjb2xvciI6ICJncmVlbiIsCiAgImRhc2hBcnJheSI6IG51bGwsCiAgImRhc2hPZmZzZXQiOiBudWxsLAogICJmaWxsIjogdHJ1ZSwKICAiZmlsbENvbG9yIjogImdyZWVuIiwKICAiZmlsbE9wYWNpdHkiOiAwLjUsCiAgImZpbGxSdWxlIjogImV2ZW5vZGQiLAogICJsaW5lQ2FwIjogInJvdW5kIiwKICAibGluZUpvaW4iOiAicm91bmQiLAogICJvcGFjaXR5IjogMS4wLAogICJyYWRpdXMiOiAwLjAwMSwKICAic3Ryb2tlIjogdHJ1ZSwKICAid2VpZ2h0IjogMwp9CiAgICAgICAgICAgICAgICApCiAgICAgICAgICAgICAgICAuYWRkVG8obWFya2VyX2NsdXN0ZXJfMjdmNDE4ZThiYmUyNGU3N2IzYjYxNGQ4NThhNzhkYzQpOwogICAgICAgICAgICAKICAgIAogICAgICAgICAgICB2YXIgcG9wdXBfMTgxNjBlMjA3MmNiNGY5NTlhOWI1MGI2MDczZGJlZWMgPSBMLnBvcHVwKHttYXhXaWR0aDogJzMwMCcKICAgICAgICAgICAgCiAgICAgICAgICAgIH0pOwoKICAgICAgICAgICAgCiAgICAgICAgICAgICAgICB2YXIgaHRtbF9mNDFkNWM2MWJlMWY0MGNiOTQ5MjAzZDUyMGRiZmZhYiA9ICQoJzxkaXYgaWQ9Imh0bWxfZjQxZDVjNjFiZTFmNDBjYjk0OTIwM2Q1MjBkYmZmYWIiIHN0eWxlPSJ3aWR0aDogMTAwLjAlOyBoZWlnaHQ6IDEwMC4wJTsiPiBudW1iZXIgb2YgZWFydGhxdWFrZXM6IDEgPGJyXD5kZWF0aHM6IDEuMDwvZGl2PicpWzBdOwogICAgICAgICAgICAgICAgcG9wdXBfMTgxNjBlMjA3MmNiNGY5NTlhOWI1MGI2MDczZGJlZWMuc2V0Q29udGVudChodG1sX2Y0MWQ1YzYxYmUxZjQwY2I5NDkyMDNkNTIwZGJmZmFiKTsKICAgICAgICAgICAgCgogICAgICAgICAgICBjaXJjbGVfbWFya2VyX2EzZmE0MmNhYzk3ZTQ3MDZiNzY3YzhmMWZkM2EzMWU0LmJpbmRQb3B1cChwb3B1cF8xODE2MGUyMDcyY2I0Zjk1OWE5YjUwYjYwNzNkYmVlYykKICAgICAgICAgICAgOwoKICAgICAgICAgICAgCiAgICAgICAgCiAgICAKICAgICAgICAgICAgdmFyIGNpcmNsZV9tYXJrZXJfNzIzM2ZmNDlhOGNhNDhlYzljNDM2MzdiZDlhM2QwZTUgPSBMLmNpcmNsZU1hcmtlcigKICAgICAgICAgICAgICAgIFs0MS4xMDUsIDI5LjAxXSwKICAgICAgICAgICAgICAgIHsKICAiYnViYmxpbmdNb3VzZUV2ZW50cyI6IHRydWUsCiAgImNvbG9yIjogImdyZWVuIiwKICAiZGFzaEFycmF5IjogbnVsbCwKICAiZGFzaE9mZnNldCI6IG51bGwsCiAgImZpbGwiOiB0cnVlLAogICJmaWxsQ29sb3IiOiAiZ3JlZW4iLAogICJmaWxsT3BhY2l0eSI6IDAuNSwKICAiZmlsbFJ1bGUiOiAiZXZlbm9kZCIsCiAgImxpbmVDYXAiOiAicm91bmQiLAogICJsaW5lSm9pbiI6ICJyb3VuZCIsCiAgIm9wYWNpdHkiOiAxLjAsCiAgInJhZGl1cyI6IDAuMDAxLAogICJzdHJva2UiOiB0cnVlLAogICJ3ZWlnaHQiOiAzCn0KICAgICAgICAgICAgICAgICkKICAgICAgICAgICAgICAgIC5hZGRUbyhtYXJrZXJfY2x1c3Rlcl8yN2Y0MThlOGJiZTI0ZTc3YjNiNjE0ZDg1OGE3OGRjNCk7CiAgICAgICAgICAgIAogICAgCiAgICAgICAgICAgIHZhciBwb3B1cF84NTE2YjMwMDlkMmI0NzZiOTBiNmQyNjM2NTFjYzQ1NCA9IEwucG9wdXAoe21heFdpZHRoOiAnMzAwJwogICAgICAgICAgICAKICAgICAgICAgICAgfSk7CgogICAgICAgICAgICAKICAgICAgICAgICAgICAgIHZhciBodG1sXzdmYzk0OTI2MTMwZTRlN2NhNzBkNzZlOTM0ZjY3NTU2ID0gJCgnPGRpdiBpZD0iaHRtbF83ZmM5NDkyNjEzMGU0ZTdjYTcwZDc2ZTkzNGY2NzU1NiIgc3R5bGU9IndpZHRoOiAxMDAuMCU7IGhlaWdodDogMTAwLjAlOyI+IG51bWJlciBvZiBlYXJ0aHF1YWtlczogMSA8YnJcPmRlYXRoczogMS4wPC9kaXY+JylbMF07CiAgICAgICAgICAgICAgICBwb3B1cF84NTE2YjMwMDlkMmI0NzZiOTBiNmQyNjM2NTFjYzQ1NC5zZXRDb250ZW50KGh0bWxfN2ZjOTQ5MjYxMzBlNGU3Y2E3MGQ3NmU5MzRmNjc1NTYpOwogICAgICAgICAgICAKCiAgICAgICAgICAgIGNpcmNsZV9tYXJrZXJfNzIzM2ZmNDlhOGNhNDhlYzljNDM2MzdiZDlhM2QwZTUuYmluZFBvcHVwKHBvcHVwXzg1MTZiMzAwOWQyYjQ3NmI5MGI2ZDI2MzY1MWNjNDU0KQogICAgICAgICAgICA7CgogICAgICAgICAgICAKICAgICAgICAKICAgIAogICAgICAgICAgICB2YXIgY2lyY2xlX21hcmtlcl83MjM3ZTFjM2NkYjM0MDY2ODU3NTNkZjdlNDVmYmI2MCA9IEwuY2lyY2xlTWFya2VyKAogICAgICAgICAgICAgICAgWzMxLjIxNjUsIDEyMS40MzY1XSwKICAgICAgICAgICAgICAgIHsKICAiYnViYmxpbmdNb3VzZUV2ZW50cyI6IHRydWUsCiAgImNvbG9yIjogImdyZWVuIiwKICAiZGFzaEFycmF5IjogbnVsbCwKICAiZGFzaE9mZnNldCI6IG51bGwsCiAgImZpbGwiOiB0cnVlLAogICJmaWxsQ29sb3IiOiAiZ3JlZW4iLAogICJmaWxsT3BhY2l0eSI6IDAuNSwKICAiZmlsbFJ1bGUiOiAiZXZlbm9kZCIsCiAgImxpbmVDYXAiOiAicm91bmQiLAogICJsaW5lSm9pbiI6ICJyb3VuZCIsCiAgIm9wYWNpdHkiOiAxLjAsCiAgInJhZGl1cyI6IDAuMDAyLAogICJzdHJva2UiOiB0cnVlLAogICJ3ZWlnaHQiOiAzCn0KICAgICAgICAgICAgICAgICkKICAgICAgICAgICAgICAgIC5hZGRUbyhtYXJrZXJfY2x1c3Rlcl8yN2Y0MThlOGJiZTI0ZTc3YjNiNjE0ZDg1OGE3OGRjNCk7CiAgICAgICAgICAgIAogICAgCiAgICAgICAgICAgIHZhciBwb3B1cF9hYmM5MDBkNGVmZTk0MGEzOTE3MWU0ODExZjUwY2Y0NCA9IEwucG9wdXAoe21heFdpZHRoOiAnMzAwJwogICAgICAgICAgICAKICAgICAgICAgICAgfSk7CgogICAgICAgICAgICAKICAgICAgICAgICAgICAgIHZhciBodG1sXzdkNzViYjA2MmMwODRjYjJhMmFlZTFjOWVhOGRjZjFmID0gJCgnPGRpdiBpZD0iaHRtbF83ZDc1YmIwNjJjMDg0Y2IyYTJhZWUxYzllYThkY2YxZiIgc3R5bGU9IndpZHRoOiAxMDAuMCU7IGhlaWdodDogMTAwLjAlOyI+IG51bWJlciBvZiBlYXJ0aHF1YWtlczogMSA8YnJcPmRlYXRoczogMi4wPC9kaXY+JylbMF07CiAgICAgICAgICAgICAgICBwb3B1cF9hYmM5MDBkNGVmZTk0MGEzOTE3MWU0ODExZjUwY2Y0NC5zZXRDb250ZW50KGh0bWxfN2Q3NWJiMDYyYzA4NGNiMmEyYWVlMWM5ZWE4ZGNmMWYpOwogICAgICAgICAgICAKCiAgICAgICAgICAgIGNpcmNsZV9tYXJrZXJfNzIzN2UxYzNjZGIzNDA2Njg1NzUzZGY3ZTQ1ZmJiNjAuYmluZFBvcHVwKHBvcHVwX2FiYzkwMGQ0ZWZlOTQwYTM5MTcxZTQ4MTFmNTBjZjQ0KQogICAgICAgICAgICA7CgogICAgICAgICAgICAKICAgICAgICAKICAgIAogICAgICAgICAgICB2YXIgY2lyY2xlX21hcmtlcl9iMTBmN2Q1OWJjYWE0YWViOGNhZjA3MmY2ZDI4MjllNyA9IEwuY2lyY2xlTWFya2VyKAogICAgICAgICAgICAgICAgWzMwLjA1LCAzMS4yNV0sCiAgICAgICAgICAgICAgICB7CiAgImJ1YmJsaW5nTW91c2VFdmVudHMiOiB0cnVlLAogICJjb2xvciI6ICJncmVlbiIsCiAgImRhc2hBcnJheSI6IG51bGwsCiAgImRhc2hPZmZzZXQiOiBudWxsLAogICJmaWxsIjogdHJ1ZSwKICAiZmlsbENvbG9yIjogImdyZWVuIiwKICAiZmlsbE9wYWNpdHkiOiAwLjUsCiAgImZpbGxSdWxlIjogImV2ZW5vZGQiLAogICJsaW5lQ2FwIjogInJvdW5kIiwKICAibGluZUpvaW4iOiAicm91bmQiLAogICJvcGFjaXR5IjogMS4wLAogICJyYWRpdXMiOiAwLjU1MiwKICAic3Ryb2tlIjogdHJ1ZSwKICAid2VpZ2h0IjogMwp9CiAgICAgICAgICAgICAgICApCiAgICAgICAgICAgICAgICAuYWRkVG8obWFya2VyX2NsdXN0ZXJfMjdmNDE4ZThiYmUyNGU3N2IzYjYxNGQ4NThhNzhkYzQpOwogICAgICAgICAgICAKICAgIAogICAgICAgICAgICB2YXIgcG9wdXBfZDVjMTIwZWI5Y2JiNDBkYjk2MDhmNWQyOTQ5NjE5OTggPSBMLnBvcHVwKHttYXhXaWR0aDogJzMwMCcKICAgICAgICAgICAgCiAgICAgICAgICAgIH0pOwoKICAgICAgICAgICAgCiAgICAgICAgICAgICAgICB2YXIgaHRtbF82YWEwMmJlYzk3YTk0ZGE4YmEyMWI1ZjFlZjBjYTNlMiA9ICQoJzxkaXYgaWQ9Imh0bWxfNmFhMDJiZWM5N2E5NGRhOGJhMjFiNWYxZWYwY2EzZTIiIHN0eWxlPSJ3aWR0aDogMTAwLjAlOyBoZWlnaHQ6IDEwMC4wJTsiPiBudW1iZXIgb2YgZWFydGhxdWFrZXM6IDEgPGJyXD5kZWF0aHM6IDU1Mi4wPC9kaXY+JylbMF07CiAgICAgICAgICAgICAgICBwb3B1cF9kNWMxMjBlYjljYmI0MGRiOTYwOGY1ZDI5NDk2MTk5OC5zZXRDb250ZW50KGh0bWxfNmFhMDJiZWM5N2E5NGRhOGJhMjFiNWYxZWYwY2EzZTIpOwogICAgICAgICAgICAKCiAgICAgICAgICAgIGNpcmNsZV9tYXJrZXJfYjEwZjdkNTliY2FhNGFlYjhjYWYwNzJmNmQyODI5ZTcuYmluZFBvcHVwKHBvcHVwX2Q1YzEyMGViOWNiYjQwZGI5NjA4ZjVkMjk0OTYxOTk4KQogICAgICAgICAgICA7CgogICAgICAgICAgICAKICAgICAgICAKICAgIAogICAgICAgICAgICB2YXIgY2lyY2xlX21hcmtlcl80NGMxZjRiMzlkNGI0ZTg0YTA5ZTlmY2EyODcyMGE2MCA9IEwuY2lyY2xlTWFya2VyKAogICAgICAgICAgICAgICAgWzMwLjA1LCAzMS4yNV0sCiAgICAgICAgICAgICAgICB7CiAgImJ1YmJsaW5nTW91c2VFdmVudHMiOiB0cnVlLAogICJjb2xvciI6ICJncmVlbiIsCiAgImRhc2hBcnJheSI6IG51bGwsCiAgImRhc2hPZmZzZXQiOiBudWxsLAogICJmaWxsIjogdHJ1ZSwKICAiZmlsbENvbG9yIjogImdyZWVuIiwKICAiZmlsbE9wYWNpdHkiOiAwLjUsCiAgImZpbGxSdWxlIjogImV2ZW5vZGQiLAogICJsaW5lQ2FwIjogInJvdW5kIiwKICAibGluZUpvaW4iOiAicm91bmQiLAogICJvcGFjaXR5IjogMS4wLAogICJyYWRpdXMiOiAwLjAwNCwKICAic3Ryb2tlIjogdHJ1ZSwKICAid2VpZ2h0IjogMwp9CiAgICAgICAgICAgICAgICApCiAgICAgICAgICAgICAgICAuYWRkVG8obWFya2VyX2NsdXN0ZXJfMjdmNDE4ZThiYmUyNGU3N2IzYjYxNGQ4NThhNzhkYzQpOwogICAgICAgICAgICAKICAgIAogICAgICAgICAgICB2YXIgcG9wdXBfNGE1YTM0YTAyNDI3NDQ5Njk0NzFkMjE5NzFiYjkxYWQgPSBMLnBvcHVwKHttYXhXaWR0aDogJzMwMCcKICAgICAgICAgICAgCiAgICAgICAgICAgIH0pOwoKICAgICAgICAgICAgCiAgICAgICAgICAgICAgICB2YXIgaHRtbF9iY2YxZWIyNWVkYzg0ZGQ4YjYwODI0MDE5NGU1MjliZCA9ICQoJzxkaXYgaWQ9Imh0bWxfYmNmMWViMjVlZGM4NGRkOGI2MDgyNDAxOTRlNTI5YmQiIHN0eWxlPSJ3aWR0aDogMTAwLjAlOyBoZWlnaHQ6IDEwMC4wJTsiPiBudW1iZXIgb2YgZWFydGhxdWFrZXM6IDEgPGJyXD5kZWF0aHM6IDQuMDwvZGl2PicpWzBdOwogICAgICAgICAgICAgICAgcG9wdXBfNGE1YTM0YTAyNDI3NDQ5Njk0NzFkMjE5NzFiYjkxYWQuc2V0Q29udGVudChodG1sX2JjZjFlYjI1ZWRjODRkZDhiNjA4MjQwMTk0ZTUyOWJkKTsKICAgICAgICAgICAgCgogICAgICAgICAgICBjaXJjbGVfbWFya2VyXzQ0YzFmNGIzOWQ0YjRlODRhMDllOWZjYTI4NzIwYTYwLmJpbmRQb3B1cChwb3B1cF80YTVhMzRhMDI0Mjc0NDk2OTQ3MWQyMTk3MWJiOTFhZCkKICAgICAgICAgICAgOwoKICAgICAgICAgICAgCiAgICAgICAgCiAgICAKICAgICAgICAgICAgdmFyIGNpcmNsZV9tYXJrZXJfODQ1OTRkMzg4Nzc3NDAwNjkyMjc2NTQ3MTkzODE5ZjUgPSBMLmNpcmNsZU1hcmtlcigKICAgICAgICAgICAgICAgIFszNS42ODUsIDEzOS43NTE0XSwKICAgICAgICAgICAgICAgIHsKICAiYnViYmxpbmdNb3VzZUV2ZW50cyI6IHRydWUsCiAgImNvbG9yIjogImdyZWVuIiwKICAiZGFzaEFycmF5IjogbnVsbCwKICAiZGFzaE9mZnNldCI6IG51bGwsCiAgImZpbGwiOiB0cnVlLAogICJmaWxsQ29sb3IiOiAiZ3JlZW4iLAogICJmaWxsT3BhY2l0eSI6IDAuNSwKICAiZmlsbFJ1bGUiOiAiZXZlbm9kZCIsCiAgImxpbmVDYXAiOiAicm91bmQiLAogICJsaW5lSm9pbiI6ICJyb3VuZCIsCiAgIm9wYWNpdHkiOiAxLjAsCiAgInJhZGl1cyI6IDAuMDAyLAogICJzdHJva2UiOiB0cnVlLAogICJ3ZWlnaHQiOiAzCn0KICAgICAgICAgICAgICAgICkKICAgICAgICAgICAgICAgIC5hZGRUbyhtYXJrZXJfY2x1c3Rlcl8yN2Y0MThlOGJiZTI0ZTc3YjNiNjE0ZDg1OGE3OGRjNCk7CiAgICAgICAgICAgIAogICAgCiAgICAgICAgICAgIHZhciBwb3B1cF8yZTI0MTUyNWQ1ODY0NzJhODQ0NjA0MmQ3MzhhOTAxNiA9IEwucG9wdXAoe21heFdpZHRoOiAnMzAwJwogICAgICAgICAgICAKICAgICAgICAgICAgfSk7CgogICAgICAgICAgICAKICAgICAgICAgICAgICAgIHZhciBodG1sX2M0MmEzMzk5ZjcxMzQ4YTM5YjQ2YzE3YzQxYTc0ZGNjID0gJCgnPGRpdiBpZD0iaHRtbF9jNDJhMzM5OWY3MTM0OGEzOWI0NmMxN2M0MWE3NGRjYyIgc3R5bGU9IndpZHRoOiAxMDAuMCU7IGhlaWdodDogMTAwLjAlOyI+IG51bWJlciBvZiBlYXJ0aHF1YWtlczogMSA8YnJcPmRlYXRoczogMi4wPC9kaXY+JylbMF07CiAgICAgICAgICAgICAgICBwb3B1cF8yZTI0MTUyNWQ1ODY0NzJhODQ0NjA0MmQ3MzhhOTAxNi5zZXRDb250ZW50KGh0bWxfYzQyYTMzOTlmNzEzNDhhMzliNDZjMTdjNDFhNzRkY2MpOwogICAgICAgICAgICAKCiAgICAgICAgICAgIGNpcmNsZV9tYXJrZXJfODQ1OTRkMzg4Nzc3NDAwNjkyMjc2NTQ3MTkzODE5ZjUuYmluZFBvcHVwKHBvcHVwXzJlMjQxNTI1ZDU4NjQ3MmE4NDQ2MDQyZDczOGE5MDE2KQogICAgICAgICAgICA7CgogICAgICAgICAgICAKICAgICAgICAKICAgIAogICAgICAgICAgICB2YXIgY2lyY2xlX21hcmtlcl85MjA3NDczZDBiYWI0OTg5ODU2YmUyZjYxYWE5OWM4MSA9IEwuY2lyY2xlTWFya2VyKAogICAgICAgICAgICAgICAgWzM1LjY4NSwgMTM5Ljc1MTRdLAogICAgICAgICAgICAgICAgewogICJidWJibGluZ01vdXNlRXZlbnRzIjogdHJ1ZSwKICAiY29sb3IiOiAiZ3JlZW4iLAogICJkYXNoQXJyYXkiOiBudWxsLAogICJkYXNoT2Zmc2V0IjogbnVsbCwKICAiZmlsbCI6IHRydWUsCiAgImZpbGxDb2xvciI6ICJncmVlbiIsCiAgImZpbGxPcGFjaXR5IjogMC41LAogICJmaWxsUnVsZSI6ICJldmVub2RkIiwKICAibGluZUNhcCI6ICJyb3VuZCIsCiAgImxpbmVKb2luIjogInJvdW5kIiwKICAib3BhY2l0eSI6IDEuMCwKICAicmFkaXVzIjogMTQzLjAsCiAgInN0cm9rZSI6IHRydWUsCiAgIndlaWdodCI6IDMKfQogICAgICAgICAgICAgICAgKQogICAgICAgICAgICAgICAgLmFkZFRvKG1hcmtlcl9jbHVzdGVyXzI3ZjQxOGU4YmJlMjRlNzdiM2I2MTRkODU4YTc4ZGM0KTsKICAgICAgICAgICAgCiAgICAKICAgICAgICAgICAgdmFyIHBvcHVwXzI3Yjc4YWQ1MzUyMzRjZWFiOGYxMjk2NDMyMWIzMmRlID0gTC5wb3B1cCh7bWF4V2lkdGg6ICczMDAnCiAgICAgICAgICAgIAogICAgICAgICAgICB9KTsKCiAgICAgICAgICAgIAogICAgICAgICAgICAgICAgdmFyIGh0bWxfMWIxOGYxMzhlYmM2NGU0Y2FjODJjZTE4NWM5ZGU3YmYgPSAkKCc8ZGl2IGlkPSJodG1sXzFiMThmMTM4ZWJjNjRlNGNhYzgyY2UxODVjOWRlN2JmIiBzdHlsZT0id2lkdGg6IDEwMC4wJTsgaGVpZ2h0OiAxMDAuMCU7Ij4gbnVtYmVyIG9mIGVhcnRocXVha2VzOiAxIDxiclw+ZGVhdGhzOiAxNDMwMDAuMDwvZGl2PicpWzBdOwogICAgICAgICAgICAgICAgcG9wdXBfMjdiNzhhZDUzNTIzNGNlYWI4ZjEyOTY0MzIxYjMyZGUuc2V0Q29udGVudChodG1sXzFiMThmMTM4ZWJjNjRlNGNhYzgyY2UxODVjOWRlN2JmKTsKICAgICAgICAgICAgCgogICAgICAgICAgICBjaXJjbGVfbWFya2VyXzkyMDc0NzNkMGJhYjQ5ODk4NTZiZTJmNjFhYTk5YzgxLmJpbmRQb3B1cChwb3B1cF8yN2I3OGFkNTM1MjM0Y2VhYjhmMTI5NjQzMjFiMzJkZSkKICAgICAgICAgICAgOwoKICAgICAgICAgICAgCiAgICAgICAgCiAgICAKICAgICAgICAgICAgdmFyIGNpcmNsZV9tYXJrZXJfZTk5NTkyNmJjNjU1NDBmODk5OGEyOTcxODU0MzczNTEgPSBMLmNpcmNsZU1hcmtlcigKICAgICAgICAgICAgICAgIFszNS42ODUsIDEzOS43NTE0XSwKICAgICAgICAgICAgICAgIHsKICAiYnViYmxpbmdNb3VzZUV2ZW50cyI6IHRydWUsCiAgImNvbG9yIjogImdyZWVuIiwKICAiZGFzaEFycmF5IjogbnVsbCwKICAiZGFzaE9mZnNldCI6IG51bGwsCiAgImZpbGwiOiB0cnVlLAogICJmaWxsQ29sb3IiOiAiZ3JlZW4iLAogICJmaWxsT3BhY2l0eSI6IDAuNSwKICAiZmlsbFJ1bGUiOiAiZXZlbm9kZCIsCiAgImxpbmVDYXAiOiAicm91bmQiLAogICJsaW5lSm9pbiI6ICJyb3VuZCIsCiAgIm9wYWNpdHkiOiAxLjAsCiAgInJhZGl1cyI6IDAuMDE5LAogICJzdHJva2UiOiB0cnVlLAogICJ3ZWlnaHQiOiAzCn0KICAgICAgICAgICAgICAgICkKICAgICAgICAgICAgICAgIC5hZGRUbyhtYXJrZXJfY2x1c3Rlcl8yN2Y0MThlOGJiZTI0ZTc3YjNiNjE0ZDg1OGE3OGRjNCk7CiAgICAgICAgICAgIAogICAgCiAgICAgICAgICAgIHZhciBwb3B1cF8wZDJmM2ZmYWFlZTE0NzViOGEwYjllZGFmOWYxYjc0NCA9IEwucG9wdXAoe21heFdpZHRoOiAnMzAwJwogICAgICAgICAgICAKICAgICAgICAgICAgfSk7CgogICAgICAgICAgICAKICAgICAgICAgICAgICAgIHZhciBodG1sXzA2YTFmYmUzNzAyYjQzZjg5NTU3ZjVhZGZiOGNiMGYyID0gJCgnPGRpdiBpZD0iaHRtbF8wNmExZmJlMzcwMmI0M2Y4OTU1N2Y1YWRmYjhjYjBmMiIgc3R5bGU9IndpZHRoOiAxMDAuMCU7IGhlaWdodDogMTAwLjAlOyI+IG51bWJlciBvZiBlYXJ0aHF1YWtlczogMSA8YnJcPmRlYXRoczogMTkuMDwvZGl2PicpWzBdOwogICAgICAgICAgICAgICAgcG9wdXBfMGQyZjNmZmFhZWUxNDc1YjhhMGI5ZWRhZjlmMWI3NDQuc2V0Q29udGVudChodG1sXzA2YTFmYmUzNzAyYjQzZjg5NTU3ZjVhZGZiOGNiMGYyKTsKICAgICAgICAgICAgCgogICAgICAgICAgICBjaXJjbGVfbWFya2VyX2U5OTU5MjZiYzY1NTQwZjg5OThhMjk3MTg1NDM3MzUxLmJpbmRQb3B1cChwb3B1cF8wZDJmM2ZmYWFlZTE0NzViOGEwYjllZGFmOWYxYjc0NCkKICAgICAgICAgICAgOwoKICAgICAgICAgICAgCiAgICAgICAgCiAgICAKICAgICAgICAgICAgdmFyIGNpcmNsZV9tYXJrZXJfMjMyZTNiZTUwOTIzNDViMjhhZDY1ZTEyMWFjZjlkMTUgPSBMLmNpcmNsZU1hcmtlcigKICAgICAgICAgICAgICAgIFszNS42ODUsIDEzOS43NTE0XSwKICAgICAgICAgICAgICAgIHsKICAiYnViYmxpbmdNb3VzZUV2ZW50cyI6IHRydWUsCiAgImNvbG9yIjogImdyZWVuIiwKICAiZGFzaEFycmF5IjogbnVsbCwKICAiZGFzaE9mZnNldCI6IG51bGwsCiAgImZpbGwiOiB0cnVlLAogICJmaWxsQ29sb3IiOiAiZ3JlZW4iLAogICJmaWxsT3BhY2l0eSI6IDAuNSwKICAiZmlsbFJ1bGUiOiAiZXZlbm9kZCIsCiAgImxpbmVDYXAiOiAicm91bmQiLAogICJsaW5lSm9pbiI6ICJyb3VuZCIsCiAgIm9wYWNpdHkiOiAxLjAsCiAgInJhZGl1cyI6IDAuMjcyLAogICJzdHJva2UiOiB0cnVlLAogICJ3ZWlnaHQiOiAzCn0KICAgICAgICAgICAgICAgICkKICAgICAgICAgICAgICAgIC5hZGRUbyhtYXJrZXJfY2x1c3Rlcl8yN2Y0MThlOGJiZTI0ZTc3YjNiNjE0ZDg1OGE3OGRjNCk7CiAgICAgICAgICAgIAogICAgCiAgICAgICAgICAgIHZhciBwb3B1cF9jNzIxZDBlMzVlYmY0MjQ3OTM5Y2E1NzAyZGNiNDAwYyA9IEwucG9wdXAoe21heFdpZHRoOiAnMzAwJwogICAgICAgICAgICAKICAgICAgICAgICAgfSk7CgogICAgICAgICAgICAKICAgICAgICAgICAgICAgIHZhciBodG1sX2JlOWNiOWYwZTc4MjRlOWI5NDhkNGJkN2VjMWFmNTAyID0gJCgnPGRpdiBpZD0iaHRtbF9iZTljYjlmMGU3ODI0ZTliOTQ4ZDRiZDdlYzFhZjUwMiIgc3R5bGU9IndpZHRoOiAxMDAuMCU7IGhlaWdodDogMTAwLjAlOyI+IG51bWJlciBvZiBlYXJ0aHF1YWtlczogMSA8YnJcPmRlYXRoczogMjcyLjA8L2Rpdj4nKVswXTsKICAgICAgICAgICAgICAgIHBvcHVwX2M3MjFkMGUzNWViZjQyNDc5MzljYTU3MDJkY2I0MDBjLnNldENvbnRlbnQoaHRtbF9iZTljYjlmMGU3ODI0ZTliOTQ4ZDRiZDdlYzFhZjUwMik7CiAgICAgICAgICAgIAoKICAgICAgICAgICAgY2lyY2xlX21hcmtlcl8yMzJlM2JlNTA5MjM0NWIyOGFkNjVlMTIxYWNmOWQxNS5iaW5kUG9wdXAocG9wdXBfYzcyMWQwZTM1ZWJmNDI0NzkzOWNhNTcwMmRjYjQwMGMpCiAgICAgICAgICAgIDsKCiAgICAgICAgICAgIAogICAgICAgIAogICAgCiAgICAgICAgICAgIHZhciBjaXJjbGVfbWFya2VyX2RiOGE2M2Y2YjI2MzRjNmRhNGU4ZGJhODliYWJjZDVhID0gTC5jaXJjbGVNYXJrZXIoCiAgICAgICAgICAgICAgICBbMzUuNjg1LCAxMzkuNzUxNF0sCiAgICAgICAgICAgICAgICB7CiAgImJ1YmJsaW5nTW91c2VFdmVudHMiOiB0cnVlLAogICJjb2xvciI6ICJncmVlbiIsCiAgImRhc2hBcnJheSI6IG51bGwsCiAgImRhc2hPZmZzZXQiOiBudWxsLAogICJmaWxsIjogdHJ1ZSwKICAiZmlsbENvbG9yIjogImdyZWVuIiwKICAiZmlsbE9wYWNpdHkiOiAwLjUsCiAgImZpbGxSdWxlIjogImV2ZW5vZGQiLAogICJsaW5lQ2FwIjogInJvdW5kIiwKICAibGluZUpvaW4iOiAicm91bmQiLAogICJvcGFjaXR5IjogMS4wLAogICJyYWRpdXMiOiAwLjAxNiwKICAic3Ryb2tlIjogdHJ1ZSwKICAid2VpZ2h0IjogMwp9CiAgICAgICAgICAgICAgICApCiAgICAgICAgICAgICAgICAuYWRkVG8obWFya2VyX2NsdXN0ZXJfMjdmNDE4ZThiYmUyNGU3N2IzYjYxNGQ4NThhNzhkYzQpOwogICAgICAgICAgICAKICAgIAogICAgICAgICAgICB2YXIgcG9wdXBfZTQwNmI5ZmNiYTNkNGE5MWI1YTkzYjNlNDdhNGU5ZGIgPSBMLnBvcHVwKHttYXhXaWR0aDogJzMwMCcKICAgICAgICAgICAgCiAgICAgICAgICAgIH0pOwoKICAgICAgICAgICAgCiAgICAgICAgICAgICAgICB2YXIgaHRtbF85MGY2YWJjMzkxMTU0OTc2YjBlNWRlYTE5MTZjMTI3YSA9ICQoJzxkaXYgaWQ9Imh0bWxfOTBmNmFiYzM5MTE1NDk3NmIwZTVkZWExOTE2YzEyN2EiIHN0eWxlPSJ3aWR0aDogMTAwLjAlOyBoZWlnaHQ6IDEwMC4wJTsiPiBudW1iZXIgb2YgZWFydGhxdWFrZXM6IDEgPGJyXD5kZWF0aHM6IDE2LjA8L2Rpdj4nKVswXTsKICAgICAgICAgICAgICAgIHBvcHVwX2U0MDZiOWZjYmEzZDRhOTFiNWE5M2IzZTQ3YTRlOWRiLnNldENvbnRlbnQoaHRtbF85MGY2YWJjMzkxMTU0OTc2YjBlNWRlYTE5MTZjMTI3YSk7CiAgICAgICAgICAgIAoKICAgICAgICAgICAgY2lyY2xlX21hcmtlcl9kYjhhNjNmNmIyNjM0YzZkYTRlOGRiYTg5YmFiY2Q1YS5iaW5kUG9wdXAocG9wdXBfZTQwNmI5ZmNiYTNkNGE5MWI1YTkzYjNlNDdhNGU5ZGIpCiAgICAgICAgICAgIDsKCiAgICAgICAgICAgIAogICAgICAgIAogICAgCiAgICAgICAgICAgIHZhciBjaXJjbGVfbWFya2VyXzczNWM5NmFjNjM3NjRhNDk4Nzc5MTExMDhjZWZkNTQxID0gTC5jaXJjbGVNYXJrZXIoCiAgICAgICAgICAgICAgICBbMzUuNjg1LCAxMzkuNzUxNF0sCiAgICAgICAgICAgICAgICB7CiAgImJ1YmJsaW5nTW91c2VFdmVudHMiOiB0cnVlLAogICJjb2xvciI6ICJncmVlbiIsCiAgImRhc2hBcnJheSI6IG51bGwsCiAgImRhc2hPZmZzZXQiOiBudWxsLAogICJmaWxsIjogdHJ1ZSwKICAiZmlsbENvbG9yIjogImdyZWVuIiwKICAiZmlsbE9wYWNpdHkiOiAwLjUsCiAgImZpbGxSdWxlIjogImV2ZW5vZGQiLAogICJsaW5lQ2FwIjogInJvdW5kIiwKICAibGluZUpvaW4iOiAicm91bmQiLAogICJvcGFjaXR5IjogMS4wLAogICJyYWRpdXMiOiAwLjAwMSwKICAic3Ryb2tlIjogdHJ1ZSwKICAid2VpZ2h0IjogMwp9CiAgICAgICAgICAgICAgICApCiAgICAgICAgICAgICAgICAuYWRkVG8obWFya2VyX2NsdXN0ZXJfMjdmNDE4ZThiYmUyNGU3N2IzYjYxNGQ4NThhNzhkYzQpOwogICAgICAgICAgICAKICAgIAogICAgICAgICAgICB2YXIgcG9wdXBfMjBmMjQ4ZWVmZDIwNDYzZDgyMzIxNjViNTAwM2I5MWUgPSBMLnBvcHVwKHttYXhXaWR0aDogJzMwMCcKICAgICAgICAgICAgCiAgICAgICAgICAgIH0pOwoKICAgICAgICAgICAgCiAgICAgICAgICAgICAgICB2YXIgaHRtbF9jMmFjYzJjYmI5NTU0MzYxYmJiMmZiOTczMGJiNDJlZiA9ICQoJzxkaXYgaWQ9Imh0bWxfYzJhY2MyY2JiOTU1NDM2MWJiYjJmYjk3MzBiYjQyZWYiIHN0eWxlPSJ3aWR0aDogMTAwLjAlOyBoZWlnaHQ6IDEwMC4wJTsiPiBudW1iZXIgb2YgZWFydGhxdWFrZXM6IDEgPGJyXD5kZWF0aHM6IDEuMDwvZGl2PicpWzBdOwogICAgICAgICAgICAgICAgcG9wdXBfMjBmMjQ4ZWVmZDIwNDYzZDgyMzIxNjViNTAwM2I5MWUuc2V0Q29udGVudChodG1sX2MyYWNjMmNiYjk1NTQzNjFiYmIyZmI5NzMwYmI0MmVmKTsKICAgICAgICAgICAgCgogICAgICAgICAgICBjaXJjbGVfbWFya2VyXzczNWM5NmFjNjM3NjRhNDk4Nzc5MTExMDhjZWZkNTQxLmJpbmRQb3B1cChwb3B1cF8yMGYyNDhlZWZkMjA0NjNkODIzMjE2NWI1MDAzYjkxZSkKICAgICAgICAgICAgOwoKICAgICAgICAgICAgCiAgICAgICAgCiAgICAKICAgICAgICAgICAgdmFyIGNpcmNsZV9tYXJrZXJfYTE1NDcyOTU2MDk1NDUxOGE4NmM1MmYwYWQ4NmM3N2EgPSBMLmNpcmNsZU1hcmtlcigKICAgICAgICAgICAgICAgIFszNS42ODUsIDEzOS43NTE0XSwKICAgICAgICAgICAgICAgIHsKICAiYnViYmxpbmdNb3VzZUV2ZW50cyI6IHRydWUsCiAgImNvbG9yIjogImdyZWVuIiwKICAiZGFzaEFycmF5IjogbnVsbCwKICAiZGFzaE9mZnNldCI6IG51bGwsCiAgImZpbGwiOiB0cnVlLAogICJmaWxsQ29sb3IiOiAiZ3JlZW4iLAogICJmaWxsT3BhY2l0eSI6IDAuNSwKICAiZmlsbFJ1bGUiOiAiZXZlbm9kZCIsCiAgImxpbmVDYXAiOiAicm91bmQiLAogICJsaW5lSm9pbiI6ICJyb3VuZCIsCiAgIm9wYWNpdHkiOiAxLjAsCiAgInJhZGl1cyI6IDAuMDAyLAogICJzdHJva2UiOiB0cnVlLAogICJ3ZWlnaHQiOiAzCn0KICAgICAgICAgICAgICAgICkKICAgICAgICAgICAgICAgIC5hZGRUbyhtYXJrZXJfY2x1c3Rlcl8yN2Y0MThlOGJiZTI0ZTc3YjNiNjE0ZDg1OGE3OGRjNCk7CiAgICAgICAgICAgIAogICAgCiAgICAgICAgICAgIHZhciBwb3B1cF82ZjdmMzdjZWZiY2U0Y2Y1YTYxZmVjMmMwZjBkMzdkZCA9IEwucG9wdXAoe21heFdpZHRoOiAnMzAwJwogICAgICAgICAgICAKICAgICAgICAgICAgfSk7CgogICAgICAgICAgICAKICAgICAgICAgICAgICAgIHZhciBodG1sX2RkY2Y4ZThkZjE0YTQ1NGM5MzA0YjFlNzkxYmRlNGZmID0gJCgnPGRpdiBpZD0iaHRtbF9kZGNmOGU4ZGYxNGE0NTRjOTMwNGIxZTc5MWJkZTRmZiIgc3R5bGU9IndpZHRoOiAxMDAuMCU7IGhlaWdodDogMTAwLjAlOyI+IG51bWJlciBvZiBlYXJ0aHF1YWtlczogMSA8YnJcPmRlYXRoczogMi4wPC9kaXY+JylbMF07CiAgICAgICAgICAgICAgICBwb3B1cF82ZjdmMzdjZWZiY2U0Y2Y1YTYxZmVjMmMwZjBkMzdkZC5zZXRDb250ZW50KGh0bWxfZGRjZjhlOGRmMTRhNDU0YzkzMDRiMWU3OTFiZGU0ZmYpOwogICAgICAgICAgICAKCiAgICAgICAgICAgIGNpcmNsZV9tYXJrZXJfYTE1NDcyOTU2MDk1NDUxOGE4NmM1MmYwYWQ4NmM3N2EuYmluZFBvcHVwKHBvcHVwXzZmN2YzN2NlZmJjZTRjZjVhNjFmZWMyYzBmMGQzN2RkKQogICAgICAgICAgICA7CgogICAgICAgICAgICAKICAgICAgICAKICAgIAogICAgICAgICAgICB2YXIgY2lyY2xlX21hcmtlcl9mZjA0YWY3OThlNzk0MWU2ODMzOTM5ZWUyODg1ZTEwNSA9IEwuY2lyY2xlTWFya2VyKAogICAgICAgICAgICAgICAgWzM1LjY4NSwgMTM5Ljc1MTRdLAogICAgICAgICAgICAgICAgewogICJidWJibGluZ01vdXNlRXZlbnRzIjogdHJ1ZSwKICAiY29sb3IiOiAiZ3JlZW4iLAogICJkYXNoQXJyYXkiOiBudWxsLAogICJkYXNoT2Zmc2V0IjogbnVsbCwKICAiZmlsbCI6IHRydWUsCiAgImZpbGxDb2xvciI6ICJncmVlbiIsCiAgImZpbGxPcGFjaXR5IjogMC41LAogICJmaWxsUnVsZSI6ICJldmVub2RkIiwKICAibGluZUNhcCI6ICJyb3VuZCIsCiAgImxpbmVKb2luIjogInJvdW5kIiwKICAib3BhY2l0eSI6IDEuMCwKICAicmFkaXVzIjogMC4wMDIsCiAgInN0cm9rZSI6IHRydWUsCiAgIndlaWdodCI6IDMKfQogICAgICAgICAgICAgICAgKQogICAgICAgICAgICAgICAgLmFkZFRvKG1hcmtlcl9jbHVzdGVyXzI3ZjQxOGU4YmJlMjRlNzdiM2I2MTRkODU4YTc4ZGM0KTsKICAgICAgICAgICAgCiAgICAKICAgICAgICAgICAgdmFyIHBvcHVwXzYwMDhmMzVmNjliYjRkNDRhYTY0MDQ2MjZkMjFiMWQxID0gTC5wb3B1cCh7bWF4V2lkdGg6ICczMDAnCiAgICAgICAgICAgIAogICAgICAgICAgICB9KTsKCiAgICAgICAgICAgIAogICAgICAgICAgICAgICAgdmFyIGh0bWxfOTllNDRhNDBkZGM4NDJlMmJkMzI2YjhhNGQ4OWI2MWIgPSAkKCc8ZGl2IGlkPSJodG1sXzk5ZTQ0YTQwZGRjODQyZTJiZDMyNmI4YTRkODliNjFiIiBzdHlsZT0id2lkdGg6IDEwMC4wJTsgaGVpZ2h0OiAxMDAuMCU7Ij4gbnVtYmVyIG9mIGVhcnRocXVha2VzOiAxIDxiclw+ZGVhdGhzOiAyLjA8L2Rpdj4nKVswXTsKICAgICAgICAgICAgICAgIHBvcHVwXzYwMDhmMzVmNjliYjRkNDRhYTY0MDQ2MjZkMjFiMWQxLnNldENvbnRlbnQoaHRtbF85OWU0NGE0MGRkYzg0MmUyYmQzMjZiOGE0ZDg5YjYxYik7CiAgICAgICAgICAgIAoKICAgICAgICAgICAgY2lyY2xlX21hcmtlcl9mZjA0YWY3OThlNzk0MWU2ODMzOTM5ZWUyODg1ZTEwNS5iaW5kUG9wdXAocG9wdXBfNjAwOGYzNWY2OWJiNGQ0NGFhNjQwNDYyNmQyMWIxZDEpCiAgICAgICAgICAgIDsKCiAgICAgICAgICAgIAogICAgICAgIAogICAgCiAgICAgICAgICAgIHZhciBjaXJjbGVfbWFya2VyX2MxYzdmOWVjMThlOTQ3YTM4MmU4Y2RhYjc4N2JjMDc5ID0gTC5jaXJjbGVNYXJrZXIoCiAgICAgICAgICAgICAgICBbMzUuNjg1LCAxMzkuNzUxNF0sCiAgICAgICAgICAgICAgICB7CiAgImJ1YmJsaW5nTW91c2VFdmVudHMiOiB0cnVlLAogICJjb2xvciI6ICJncmVlbiIsCiAgImRhc2hBcnJheSI6IG51bGwsCiAgImRhc2hPZmZzZXQiOiBudWxsLAogICJmaWxsIjogdHJ1ZSwKICAiZmlsbENvbG9yIjogImdyZWVuIiwKICAiZmlsbE9wYWNpdHkiOiAwLjUsCiAgImZpbGxSdWxlIjogImV2ZW5vZGQiLAogICJsaW5lQ2FwIjogInJvdW5kIiwKICAibGluZUpvaW4iOiAicm91bmQiLAogICJvcGFjaXR5IjogMS4wLAogICJyYWRpdXMiOiAwLjAwMiwKICAic3Ryb2tlIjogdHJ1ZSwKICAid2VpZ2h0IjogMwp9CiAgICAgICAgICAgICAgICApCiAgICAgICAgICAgICAgICAuYWRkVG8obWFya2VyX2NsdXN0ZXJfMjdmNDE4ZThiYmUyNGU3N2IzYjYxNGQ4NThhNzhkYzQpOwogICAgICAgICAgICAKICAgIAogICAgICAgICAgICB2YXIgcG9wdXBfY2VlYWRhMGE3YWY0NDcyNGFmNWEyNjRlYTAyZjQ0Y2UgPSBMLnBvcHVwKHttYXhXaWR0aDogJzMwMCcKICAgICAgICAgICAgCiAgICAgICAgICAgIH0pOwoKICAgICAgICAgICAgCiAgICAgICAgICAgICAgICB2YXIgaHRtbF80YmVjZTEyNDZlZjI0MzJhYjMwYmM0MTdiM2NhYTM1MCA9ICQoJzxkaXYgaWQ9Imh0bWxfNGJlY2UxMjQ2ZWYyNDMyYWIzMGJjNDE3YjNjYWEzNTAiIHN0eWxlPSJ3aWR0aDogMTAwLjAlOyBoZWlnaHQ6IDEwMC4wJTsiPiBudW1iZXIgb2YgZWFydGhxdWFrZXM6IDEgPGJyXD5kZWF0aHM6IDIuMDwvZGl2PicpWzBdOwogICAgICAgICAgICAgICAgcG9wdXBfY2VlYWRhMGE3YWY0NDcyNGFmNWEyNjRlYTAyZjQ0Y2Uuc2V0Q29udGVudChodG1sXzRiZWNlMTI0NmVmMjQzMmFiMzBiYzQxN2IzY2FhMzUwKTsKICAgICAgICAgICAgCgogICAgICAgICAgICBjaXJjbGVfbWFya2VyX2MxYzdmOWVjMThlOTQ3YTM4MmU4Y2RhYjc4N2JjMDc5LmJpbmRQb3B1cChwb3B1cF9jZWVhZGEwYTdhZjQ0NzI0YWY1YTI2NGVhMDJmNDRjZSkKICAgICAgICAgICAgOwoKICAgICAgICAgICAgCiAgICAgICAgCiAgICAKICAgICAgICAgICAgdmFyIGNpcmNsZV9tYXJrZXJfOTUyZDNiMWQ3NDI5NDE2ZGJiYTQwNWRiMTljMjI5NGYgPSBMLmNpcmNsZU1hcmtlcigKICAgICAgICAgICAgICAgIFszNS42ODUsIDEzOS43NTE0XSwKICAgICAgICAgICAgICAgIHsKICAiYnViYmxpbmdNb3VzZUV2ZW50cyI6IHRydWUsCiAgImNvbG9yIjogImdyZWVuIiwKICAiZGFzaEFycmF5IjogbnVsbCwKICAiZGFzaE9mZnNldCI6IG51bGwsCiAgImZpbGwiOiB0cnVlLAogICJmaWxsQ29sb3IiOiAiZ3JlZW4iLAogICJmaWxsT3BhY2l0eSI6IDAuNSwKICAiZmlsbFJ1bGUiOiAiZXZlbm9kZCIsCiAgImxpbmVDYXAiOiAicm91bmQiLAogICJsaW5lSm9pbiI6ICJyb3VuZCIsCiAgIm9wYWNpdHkiOiAxLjAsCiAgInJhZGl1cyI6IDAuMDAxLAogICJzdHJva2UiOiB0cnVlLAogICJ3ZWlnaHQiOiAzCn0KICAgICAgICAgICAgICAgICkKICAgICAgICAgICAgICAgIC5hZGRUbyhtYXJrZXJfY2x1c3Rlcl8yN2Y0MThlOGJiZTI0ZTc3YjNiNjE0ZDg1OGE3OGRjNCk7CiAgICAgICAgICAgIAogICAgCiAgICAgICAgICAgIHZhciBwb3B1cF82MjU5M2M1YmNlYjA0NjZhYTI0ZDQwOWUwMWY3OGRmNSA9IEwucG9wdXAoe21heFdpZHRoOiAnMzAwJwogICAgICAgICAgICAKICAgICAgICAgICAgfSk7CgogICAgICAgICAgICAKICAgICAgICAgICAgICAgIHZhciBodG1sXzdlZTUzOWVkYWM3MjQxMmM4MDllMmNiNjlkMmZjOGY2ID0gJCgnPGRpdiBpZD0iaHRtbF83ZWU1MzllZGFjNzI0MTJjODA5ZTJjYjY5ZDJmYzhmNiIgc3R5bGU9IndpZHRoOiAxMDAuMCU7IGhlaWdodDogMTAwLjAlOyI+IG51bWJlciBvZiBlYXJ0aHF1YWtlczogMSA8YnJcPmRlYXRoczogMS4wPC9kaXY+JylbMF07CiAgICAgICAgICAgICAgICBwb3B1cF82MjU5M2M1YmNlYjA0NjZhYTI0ZDQwOWUwMWY3OGRmNS5zZXRDb250ZW50KGh0bWxfN2VlNTM5ZWRhYzcyNDEyYzgwOWUyY2I2OWQyZmM4ZjYpOwogICAgICAgICAgICAKCiAgICAgICAgICAgIGNpcmNsZV9tYXJrZXJfOTUyZDNiMWQ3NDI5NDE2ZGJiYTQwNWRiMTljMjI5NGYuYmluZFBvcHVwKHBvcHVwXzYyNTkzYzViY2ViMDQ2NmFhMjRkNDA5ZTAxZjc4ZGY1KQogICAgICAgICAgICA7CgogICAgICAgICAgICAKICAgICAgICAKICAgIAogICAgICAgICAgICB2YXIgY2lyY2xlX21hcmtlcl8yMDA2MDY2NTdjNzE0ODFkYjgyMTQ0ZTQ1ZmRjNjkwYyA9IEwuY2lyY2xlTWFya2VyKAogICAgICAgICAgICAgICAgWzM1LjY4NSwgMTM5Ljc1MTRdLAogICAgICAgICAgICAgICAgewogICJidWJibGluZ01vdXNlRXZlbnRzIjogdHJ1ZSwKICAiY29sb3IiOiAiZ3JlZW4iLAogICJkYXNoQXJyYXkiOiBudWxsLAogICJkYXNoT2Zmc2V0IjogbnVsbCwKICAiZmlsbCI6IHRydWUsCiAgImZpbGxDb2xvciI6ICJncmVlbiIsCiAgImZpbGxPcGFjaXR5IjogMC41LAogICJmaWxsUnVsZSI6ICJldmVub2RkIiwKICAibGluZUNhcCI6ICJyb3VuZCIsCiAgImxpbmVKb2luIjogInJvdW5kIiwKICAib3BhY2l0eSI6IDEuMCwKICAicmFkaXVzIjogMC4wMDIsCiAgInN0cm9rZSI6IHRydWUsCiAgIndlaWdodCI6IDMKfQogICAgICAgICAgICAgICAgKQogICAgICAgICAgICAgICAgLmFkZFRvKG1hcmtlcl9jbHVzdGVyXzI3ZjQxOGU4YmJlMjRlNzdiM2I2MTRkODU4YTc4ZGM0KTsKICAgICAgICAgICAgCiAgICAKICAgICAgICAgICAgdmFyIHBvcHVwXzg3MDUxOWMxYjg5NzRkMjRiZjZhMWNmMDY0MjBiOTFjID0gTC5wb3B1cCh7bWF4V2lkdGg6ICczMDAnCiAgICAgICAgICAgIAogICAgICAgICAgICB9KTsKCiAgICAgICAgICAgIAogICAgICAgICAgICAgICAgdmFyIGh0bWxfZWEwN2NkMmJjMjBjNGQ2NDgxOThhYmM4OTk3Zjk1MzMgPSAkKCc8ZGl2IGlkPSJodG1sX2VhMDdjZDJiYzIwYzRkNjQ4MTk4YWJjODk5N2Y5NTMzIiBzdHlsZT0id2lkdGg6IDEwMC4wJTsgaGVpZ2h0OiAxMDAuMCU7Ij4gbnVtYmVyIG9mIGVhcnRocXVha2VzOiAxIDxiclw+ZGVhdGhzOiAyLjA8L2Rpdj4nKVswXTsKICAgICAgICAgICAgICAgIHBvcHVwXzg3MDUxOWMxYjg5NzRkMjRiZjZhMWNmMDY0MjBiOTFjLnNldENvbnRlbnQoaHRtbF9lYTA3Y2QyYmMyMGM0ZDY0ODE5OGFiYzg5OTdmOTUzMyk7CiAgICAgICAgICAgIAoKICAgICAgICAgICAgY2lyY2xlX21hcmtlcl8yMDA2MDY2NTdjNzE0ODFkYjgyMTQ0ZTQ1ZmRjNjkwYy5iaW5kUG9wdXAocG9wdXBfODcwNTE5YzFiODk3NGQyNGJmNmExY2YwNjQyMGI5MWMpCiAgICAgICAgICAgIDsKCiAgICAgICAgICAgIAogICAgICAgIAogICAgCiAgICAgICAgICAgIHZhciBjaXJjbGVfbWFya2VyXzUyZWUyZTExNzY1MDQ2NzRhNjUwNmNiMGYzZmNmOTRiID0gTC5jaXJjbGVNYXJrZXIoCiAgICAgICAgICAgICAgICBbMzUuNjg1LCAxMzkuNzUxNF0sCiAgICAgICAgICAgICAgICB7CiAgImJ1YmJsaW5nTW91c2VFdmVudHMiOiB0cnVlLAogICJjb2xvciI6ICJncmVlbiIsCiAgImRhc2hBcnJheSI6IG51bGwsCiAgImRhc2hPZmZzZXQiOiBudWxsLAogICJmaWxsIjogdHJ1ZSwKICAiZmlsbENvbG9yIjogImdyZWVuIiwKICAiZmlsbE9wYWNpdHkiOiAwLjUsCiAgImZpbGxSdWxlIjogImV2ZW5vZGQiLAogICJsaW5lQ2FwIjogInJvdW5kIiwKICAibGluZUpvaW4iOiAicm91bmQiLAogICJvcGFjaXR5IjogMS4wLAogICJyYWRpdXMiOiAwLjAwMSwKICAic3Ryb2tlIjogdHJ1ZSwKICAid2VpZ2h0IjogMwp9CiAgICAgICAgICAgICAgICApCiAgICAgICAgICAgICAgICAuYWRkVG8obWFya2VyX2NsdXN0ZXJfMjdmNDE4ZThiYmUyNGU3N2IzYjYxNGQ4NThhNzhkYzQpOwogICAgICAgICAgICAKICAgIAogICAgICAgICAgICB2YXIgcG9wdXBfYWQyM2EwOTFiMjEzNGQ1OTljNTVhZWZhYzhlZTBjYjcgPSBMLnBvcHVwKHttYXhXaWR0aDogJzMwMCcKICAgICAgICAgICAgCiAgICAgICAgICAgIH0pOwoKICAgICAgICAgICAgCiAgICAgICAgICAgICAgICB2YXIgaHRtbF8wZWEzYjljYjM5NDA0MDI1YmVjY2EzMzU3Y2Q4NWRhNSA9ICQoJzxkaXYgaWQ9Imh0bWxfMGVhM2I5Y2IzOTQwNDAyNWJlY2NhMzM1N2NkODVkYTUiIHN0eWxlPSJ3aWR0aDogMTAwLjAlOyBoZWlnaHQ6IDEwMC4wJTsiPiBudW1iZXIgb2YgZWFydGhxdWFrZXM6IDEgPGJyXD5kZWF0aHM6IDEuMDwvZGl2PicpWzBdOwogICAgICAgICAgICAgICAgcG9wdXBfYWQyM2EwOTFiMjEzNGQ1OTljNTVhZWZhYzhlZTBjYjcuc2V0Q29udGVudChodG1sXzBlYTNiOWNiMzk0MDQwMjViZWNjYTMzNTdjZDg1ZGE1KTsKICAgICAgICAgICAgCgogICAgICAgICAgICBjaXJjbGVfbWFya2VyXzUyZWUyZTExNzY1MDQ2NzRhNjUwNmNiMGYzZmNmOTRiLmJpbmRQb3B1cChwb3B1cF9hZDIzYTA5MWIyMTM0ZDU5OWM1NWFlZmFjOGVlMGNiNykKICAgICAgICAgICAgOwoKICAgICAgICAgICAgCiAgICAgICAgCiAgICAKICAgICAgICAgICAgdmFyIGNpcmNsZV9tYXJrZXJfNWY3MTczYjQwODg3NDBkMGI2ZTZhYWUwNTNkMzA5NmMgPSBMLmNpcmNsZU1hcmtlcigKICAgICAgICAgICAgICAgIFszNC43NSwgMTM1LjQ2MDFdLAogICAgICAgICAgICAgICAgewogICJidWJibGluZ01vdXNlRXZlbnRzIjogdHJ1ZSwKICAiY29sb3IiOiAiZ3JlZW4iLAogICJkYXNoQXJyYXkiOiBudWxsLAogICJkYXNoT2Zmc2V0IjogbnVsbCwKICAiZmlsbCI6IHRydWUsCiAgImZpbGxDb2xvciI6ICJncmVlbiIsCiAgImZpbGxPcGFjaXR5IjogMC41LAogICJmaWxsUnVsZSI6ICJldmVub2RkIiwKICAibGluZUNhcCI6ICJyb3VuZCIsCiAgImxpbmVKb2luIjogInJvdW5kIiwKICAib3BhY2l0eSI6IDEuMCwKICAicmFkaXVzIjogMC4wMDkwMDAwMDAwMDAwMDAwMDEsCiAgInN0cm9rZSI6IHRydWUsCiAgIndlaWdodCI6IDMKfQogICAgICAgICAgICAgICAgKQogICAgICAgICAgICAgICAgLmFkZFRvKG1hcmtlcl9jbHVzdGVyXzI3ZjQxOGU4YmJlMjRlNzdiM2I2MTRkODU4YTc4ZGM0KTsKICAgICAgICAgICAgCiAgICAKICAgICAgICAgICAgdmFyIHBvcHVwX2MyZjZhOTZiNDk1ZjRiMjk4M2QzODM4NTg4NzQwNjQwID0gTC5wb3B1cCh7bWF4V2lkdGg6ICczMDAnCiAgICAgICAgICAgIAogICAgICAgICAgICB9KTsKCiAgICAgICAgICAgIAogICAgICAgICAgICAgICAgdmFyIGh0bWxfNDJkN2RhYThhZmI4NGJmMGE2YTBjMWZhZTc2YmM2YjQgPSAkKCc8ZGl2IGlkPSJodG1sXzQyZDdkYWE4YWZiODRiZjBhNmEwYzFmYWU3NmJjNmI0IiBzdHlsZT0id2lkdGg6IDEwMC4wJTsgaGVpZ2h0OiAxMDAuMCU7Ij4gbnVtYmVyIG9mIGVhcnRocXVha2VzOiAxIDxiclw+ZGVhdGhzOiA5LjA8L2Rpdj4nKVswXTsKICAgICAgICAgICAgICAgIHBvcHVwX2MyZjZhOTZiNDk1ZjRiMjk4M2QzODM4NTg4NzQwNjQwLnNldENvbnRlbnQoaHRtbF80MmQ3ZGFhOGFmYjg0YmYwYTZhMGMxZmFlNzZiYzZiNCk7CiAgICAgICAgICAgIAoKICAgICAgICAgICAgY2lyY2xlX21hcmtlcl81ZjcxNzNiNDA4ODc0MGQwYjZlNmFhZTA1M2QzMDk2Yy5iaW5kUG9wdXAocG9wdXBfYzJmNmE5NmI0OTVmNGIyOTgzZDM4Mzg1ODg3NDA2NDApCiAgICAgICAgICAgIDsKCiAgICAgICAgICAgIAogICAgICAgIAogICAgCiAgICAgICAgICAgIHZhciBjaXJjbGVfbWFya2VyX2E0YzQ5YzlkOTM1YzRmZjRiYmFiZDJiZjQxYTZmODlmID0gTC5jaXJjbGVNYXJrZXIoCiAgICAgICAgICAgICAgICBbMzQuNzUsIDEzNS40NjAxXSwKICAgICAgICAgICAgICAgIHsKICAiYnViYmxpbmdNb3VzZUV2ZW50cyI6IHRydWUsCiAgImNvbG9yIjogImdyZWVuIiwKICAiZGFzaEFycmF5IjogbnVsbCwKICAiZGFzaE9mZnNldCI6IG51bGwsCiAgImZpbGwiOiB0cnVlLAogICJmaWxsQ29sb3IiOiAiZ3JlZW4iLAogICJmaWxsT3BhY2l0eSI6IDAuNSwKICAiZmlsbFJ1bGUiOiAiZXZlbm9kZCIsCiAgImxpbmVDYXAiOiAicm91bmQiLAogICJsaW5lSm9pbiI6ICJyb3VuZCIsCiAgIm9wYWNpdHkiOiAxLjAsCiAgInJhZGl1cyI6IDYuNDMyLAogICJzdHJva2UiOiB0cnVlLAogICJ3ZWlnaHQiOiAzCn0KICAgICAgICAgICAgICAgICkKICAgICAgICAgICAgICAgIC5hZGRUbyhtYXJrZXJfY2x1c3Rlcl8yN2Y0MThlOGJiZTI0ZTc3YjNiNjE0ZDg1OGE3OGRjNCk7CiAgICAgICAgICAgIAogICAgCiAgICAgICAgICAgIHZhciBwb3B1cF84YmRiZDVhMTZhNDA0ODQyYjhiZTdlYmNhOGE1MDJmMSA9IEwucG9wdXAoe21heFdpZHRoOiAnMzAwJwogICAgICAgICAgICAKICAgICAgICAgICAgfSk7CgogICAgICAgICAgICAKICAgICAgICAgICAgICAgIHZhciBodG1sXzc2NmE5Mjk0ODkwOTQyZDNhOGFkZDA5OGM1NTBlMzBjID0gJCgnPGRpdiBpZD0iaHRtbF83NjZhOTI5NDg5MDk0MmQzYThhZGQwOThjNTUwZTMwYyIgc3R5bGU9IndpZHRoOiAxMDAuMCU7IGhlaWdodDogMTAwLjAlOyI+IG51bWJlciBvZiBlYXJ0aHF1YWtlczogMSA8YnJcPmRlYXRoczogNjQzMi4wPC9kaXY+JylbMF07CiAgICAgICAgICAgICAgICBwb3B1cF84YmRiZDVhMTZhNDA0ODQyYjhiZTdlYmNhOGE1MDJmMS5zZXRDb250ZW50KGh0bWxfNzY2YTkyOTQ4OTA5NDJkM2E4YWRkMDk4YzU1MGUzMGMpOwogICAgICAgICAgICAKCiAgICAgICAgICAgIGNpcmNsZV9tYXJrZXJfYTRjNDljOWQ5MzVjNGZmNGJiYWJkMmJmNDFhNmY4OWYuYmluZFBvcHVwKHBvcHVwXzhiZGJkNWExNmE0MDQ4NDJiOGJlN2ViY2E4YTUwMmYxKQogICAgICAgICAgICA7CgogICAgICAgICAgICAKICAgICAgICAKICAgIAogICAgICAgICAgICB2YXIgY2lyY2xlX21hcmtlcl85Yjc1M2I1YzY5M2U0MjM4OGVmNGMyYTFkYWFlMWE2NCA9IEwuY2lyY2xlTWFya2VyKAogICAgICAgICAgICAgICAgWzM0LjExNCwgLTExOC40MDY4XSwKICAgICAgICAgICAgICAgIHsKICAiYnViYmxpbmdNb3VzZUV2ZW50cyI6IHRydWUsCiAgImNvbG9yIjogImdyZWVuIiwKICAiZGFzaEFycmF5IjogbnVsbCwKICAiZGFzaE9mZnNldCI6IG51bGwsCiAgImZpbGwiOiB0cnVlLAogICJmaWxsQ29sb3IiOiAiZ3JlZW4iLAogICJmaWxsT3BhY2l0eSI6IDAuNSwKICAiZmlsbFJ1bGUiOiAiZXZlbm9kZCIsCiAgImxpbmVDYXAiOiAicm91bmQiLAogICJsaW5lSm9pbiI6ICJyb3VuZCIsCiAgIm9wYWNpdHkiOiAxLjAsCiAgInJhZGl1cyI6IDAuMDAxLAogICJzdHJva2UiOiB0cnVlLAogICJ3ZWlnaHQiOiAzCn0KICAgICAgICAgICAgICAgICkKICAgICAgICAgICAgICAgIC5hZGRUbyhtYXJrZXJfY2x1c3Rlcl8yN2Y0MThlOGJiZTI0ZTc3YjNiNjE0ZDg1OGE3OGRjNCk7CiAgICAgICAgICAgIAogICAgCiAgICAgICAgICAgIHZhciBwb3B1cF9iZjQ5M2NhMTFiOGE0Y2Q1YjUwYTc3NTUwOTI5N2NjNiA9IEwucG9wdXAoe21heFdpZHRoOiAnMzAwJwogICAgICAgICAgICAKICAgICAgICAgICAgfSk7CgogICAgICAgICAgICAKICAgICAgICAgICAgICAgIHZhciBodG1sXzcyN2JkNGIzMjdkMzQ1OWFiNzc2ODRkYjhkMWM2NmE4ID0gJCgnPGRpdiBpZD0iaHRtbF83MjdiZDRiMzI3ZDM0NTlhYjc3Njg0ZGI4ZDFjNjZhOCIgc3R5bGU9IndpZHRoOiAxMDAuMCU7IGhlaWdodDogMTAwLjAlOyI+IG51bWJlciBvZiBlYXJ0aHF1YWtlczogMSA8YnJcPmRlYXRoczogMS4wPC9kaXY+JylbMF07CiAgICAgICAgICAgICAgICBwb3B1cF9iZjQ5M2NhMTFiOGE0Y2Q1YjUwYTc3NTUwOTI5N2NjNi5zZXRDb250ZW50KGh0bWxfNzI3YmQ0YjMyN2QzNDU5YWI3NzY4NGRiOGQxYzY2YTgpOwogICAgICAgICAgICAKCiAgICAgICAgICAgIGNpcmNsZV9tYXJrZXJfOWI3NTNiNWM2OTNlNDIzODhlZjRjMmExZGFhZTFhNjQuYmluZFBvcHVwKHBvcHVwX2JmNDkzY2ExMWI4YTRjZDViNTBhNzc1NTA5Mjk3Y2M2KQogICAgICAgICAgICA7CgogICAgICAgICAgICAKICAgICAgICAKICAgIAogICAgICAgICAgICB2YXIgY2lyY2xlX21hcmtlcl8yNTRhOGE1ZGNlZDQ0OTk0YjEwOTgyZjhiZWIxYTYzNCA9IEwuY2lyY2xlTWFya2VyKAogICAgICAgICAgICAgICAgWzM0LjExNCwgLTExOC40MDY4XSwKICAgICAgICAgICAgICAgIHsKICAiYnViYmxpbmdNb3VzZUV2ZW50cyI6IHRydWUsCiAgImNvbG9yIjogImdyZWVuIiwKICAiZGFzaEFycmF5IjogbnVsbCwKICAiZGFzaE9mZnNldCI6IG51bGwsCiAgImZpbGwiOiB0cnVlLAogICJmaWxsQ29sb3IiOiAiZ3JlZW4iLAogICJmaWxsT3BhY2l0eSI6IDAuNSwKICAiZmlsbFJ1bGUiOiAiZXZlbm9kZCIsCiAgImxpbmVDYXAiOiAicm91bmQiLAogICJsaW5lSm9pbiI6ICJyb3VuZCIsCiAgIm9wYWNpdHkiOiAxLjAsCiAgInJhZGl1cyI6IDAuMTIsCiAgInN0cm9rZSI6IHRydWUsCiAgIndlaWdodCI6IDMKfQogICAgICAgICAgICAgICAgKQogICAgICAgICAgICAgICAgLmFkZFRvKG1hcmtlcl9jbHVzdGVyXzI3ZjQxOGU4YmJlMjRlNzdiM2I2MTRkODU4YTc4ZGM0KTsKICAgICAgICAgICAgCiAgICAKICAgICAgICAgICAgdmFyIHBvcHVwXzVjMGM0YTcyMWJhMDQ3MjU4OTZhM2QwNzg0MWMyMTMxID0gTC5wb3B1cCh7bWF4V2lkdGg6ICczMDAnCiAgICAgICAgICAgIAogICAgICAgICAgICB9KTsKCiAgICAgICAgICAgIAogICAgICAgICAgICAgICAgdmFyIGh0bWxfOTYyZGY2OGRlNGU4NDU3OWE3OTY2MTE1OWZhYzA5ZGEgPSAkKCc8ZGl2IGlkPSJodG1sXzk2MmRmNjhkZTRlODQ1NzlhNzk2NjExNTlmYWMwOWRhIiBzdHlsZT0id2lkdGg6IDEwMC4wJTsgaGVpZ2h0OiAxMDAuMCU7Ij4gbnVtYmVyIG9mIGVhcnRocXVha2VzOiAxIDxiclw+ZGVhdGhzOiAxMjAuMDwvZGl2PicpWzBdOwogICAgICAgICAgICAgICAgcG9wdXBfNWMwYzRhNzIxYmEwNDcyNTg5NmEzZDA3ODQxYzIxMzEuc2V0Q29udGVudChodG1sXzk2MmRmNjhkZTRlODQ1NzlhNzk2NjExNTlmYWMwOWRhKTsKICAgICAgICAgICAgCgogICAgICAgICAgICBjaXJjbGVfbWFya2VyXzI1NGE4YTVkY2VkNDQ5OTRiMTA5ODJmOGJlYjFhNjM0LmJpbmRQb3B1cChwb3B1cF81YzBjNGE3MjFiYTA0NzI1ODk2YTNkMDc4NDFjMjEzMSkKICAgICAgICAgICAgOwoKICAgICAgICAgICAgCiAgICAgICAgCiAgICAKICAgICAgICAgICAgdmFyIGNpcmNsZV9tYXJrZXJfMWJmNjgzYThhZTAxNDRjZDgyOWIxMTBlOWRlNWY5M2MgPSBMLmNpcmNsZU1hcmtlcigKICAgICAgICAgICAgICAgIFszNC4xMTQsIC0xMTguNDA2OF0sCiAgICAgICAgICAgICAgICB7CiAgImJ1YmJsaW5nTW91c2VFdmVudHMiOiB0cnVlLAogICJjb2xvciI6ICJncmVlbiIsCiAgImRhc2hBcnJheSI6IG51bGwsCiAgImRhc2hPZmZzZXQiOiBudWxsLAogICJmaWxsIjogdHJ1ZSwKICAiZmlsbENvbG9yIjogImdyZWVuIiwKICAiZmlsbE9wYWNpdHkiOiAwLjUsCiAgImZpbGxSdWxlIjogImV2ZW5vZGQiLAogICJsaW5lQ2FwIjogInJvdW5kIiwKICAibGluZUpvaW4iOiAicm91bmQiLAogICJvcGFjaXR5IjogMS4wLAogICJyYWRpdXMiOiAwLjA2NSwKICAic3Ryb2tlIjogdHJ1ZSwKICAid2VpZ2h0IjogMwp9CiAgICAgICAgICAgICAgICApCiAgICAgICAgICAgICAgICAuYWRkVG8obWFya2VyX2NsdXN0ZXJfMjdmNDE4ZThiYmUyNGU3N2IzYjYxNGQ4NThhNzhkYzQpOwogICAgICAgICAgICAKICAgIAogICAgICAgICAgICB2YXIgcG9wdXBfNmYxODZkYmRhNTJhNGUwZTg4ZmRhOTdlMDJiNTFhZmYgPSBMLnBvcHVwKHttYXhXaWR0aDogJzMwMCcKICAgICAgICAgICAgCiAgICAgICAgICAgIH0pOwoKICAgICAgICAgICAgCiAgICAgICAgICAgICAgICB2YXIgaHRtbF8zMjEyNTUzOTAxMGY0YjBhODAzMzg0MTJjNGQyYTcwYyA9ICQoJzxkaXYgaWQ9Imh0bWxfMzIxMjU1MzkwMTBmNGIwYTgwMzM4NDEyYzRkMmE3MGMiIHN0eWxlPSJ3aWR0aDogMTAwLjAlOyBoZWlnaHQ6IDEwMC4wJTsiPiBudW1iZXIgb2YgZWFydGhxdWFrZXM6IDEgPGJyXD5kZWF0aHM6IDY1LjA8L2Rpdj4nKVswXTsKICAgICAgICAgICAgICAgIHBvcHVwXzZmMTg2ZGJkYTUyYTRlMGU4OGZkYTk3ZTAyYjUxYWZmLnNldENvbnRlbnQoaHRtbF8zMjEyNTUzOTAxMGY0YjBhODAzMzg0MTJjNGQyYTcwYyk7CiAgICAgICAgICAgIAoKICAgICAgICAgICAgY2lyY2xlX21hcmtlcl8xYmY2ODNhOGFlMDE0NGNkODI5YjExMGU5ZGU1ZjkzYy5iaW5kUG9wdXAocG9wdXBfNmYxODZkYmRhNTJhNGUwZTg4ZmRhOTdlMDJiNTFhZmYpCiAgICAgICAgICAgIDsKCiAgICAgICAgICAgIAogICAgICAgIAogICAgCiAgICAgICAgICAgIHZhciBjaXJjbGVfbWFya2VyX2ZkMTNhMzIzNTA2MjQ0OGI5Nzc4NzFiM2EwNGIxZjg3ID0gTC5jaXJjbGVNYXJrZXIoCiAgICAgICAgICAgICAgICBbMzQuMTE0LCAtMTE4LjQwNjhdLAogICAgICAgICAgICAgICAgewogICJidWJibGluZ01vdXNlRXZlbnRzIjogdHJ1ZSwKICAiY29sb3IiOiAiZ3JlZW4iLAogICJkYXNoQXJyYXkiOiBudWxsLAogICJkYXNoT2Zmc2V0IjogbnVsbCwKICAiZmlsbCI6IHRydWUsCiAgImZpbGxDb2xvciI6ICJncmVlbiIsCiAgImZpbGxPcGFjaXR5IjogMC41LAogICJmaWxsUnVsZSI6ICJldmVub2RkIiwKICAibGluZUNhcCI6ICJyb3VuZCIsCiAgImxpbmVKb2luIjogInJvdW5kIiwKICAib3BhY2l0eSI6IDEuMCwKICAicmFkaXVzIjogMC4wMDgsCiAgInN0cm9rZSI6IHRydWUsCiAgIndlaWdodCI6IDMKfQogICAgICAgICAgICAgICAgKQogICAgICAgICAgICAgICAgLmFkZFRvKG1hcmtlcl9jbHVzdGVyXzI3ZjQxOGU4YmJlMjRlNzdiM2I2MTRkODU4YTc4ZGM0KTsKICAgICAgICAgICAgCiAgICAKICAgICAgICAgICAgdmFyIHBvcHVwX2I4OWM0MGNjZDJmYzQ4MGFhMTAyN2ZlYmQ1MTVmNzM2ID0gTC5wb3B1cCh7bWF4V2lkdGg6ICczMDAnCiAgICAgICAgICAgIAogICAgICAgICAgICB9KTsKCiAgICAgICAgICAgIAogICAgICAgICAgICAgICAgdmFyIGh0bWxfMTFkYWRjNjE1ZGI2NDcwNGEzZmFlMDcwY2JkMmE1YzkgPSAkKCc8ZGl2IGlkPSJodG1sXzExZGFkYzYxNWRiNjQ3MDRhM2ZhZTA3MGNiZDJhNWM5IiBzdHlsZT0id2lkdGg6IDEwMC4wJTsgaGVpZ2h0OiAxMDAuMCU7Ij4gbnVtYmVyIG9mIGVhcnRocXVha2VzOiAxIDxiclw+ZGVhdGhzOiA4LjA8L2Rpdj4nKVswXTsKICAgICAgICAgICAgICAgIHBvcHVwX2I4OWM0MGNjZDJmYzQ4MGFhMTAyN2ZlYmQ1MTVmNzM2LnNldENvbnRlbnQoaHRtbF8xMWRhZGM2MTVkYjY0NzA0YTNmYWUwNzBjYmQyYTVjOSk7CiAgICAgICAgICAgIAoKICAgICAgICAgICAgY2lyY2xlX21hcmtlcl9mZDEzYTMyMzUwNjI0NDhiOTc3ODcxYjNhMDRiMWY4Ny5iaW5kUG9wdXAocG9wdXBfYjg5YzQwY2NkMmZjNDgwYWExMDI3ZmViZDUxNWY3MzYpCiAgICAgICAgICAgIDsKCiAgICAgICAgICAgIAogICAgICAgIAogICAgCiAgICAgICAgICAgIHZhciBjaXJjbGVfbWFya2VyXzdkMDA1NDk1OTEzOTRjZDg5ZmVhNDlmM2EyZTQ0MjE0ID0gTC5jaXJjbGVNYXJrZXIoCiAgICAgICAgICAgICAgICBbMzQuMTE0LCAtMTE4LjQwNjhdLAogICAgICAgICAgICAgICAgewogICJidWJibGluZ01vdXNlRXZlbnRzIjogdHJ1ZSwKICAiY29sb3IiOiAiZ3JlZW4iLAogICJkYXNoQXJyYXkiOiBudWxsLAogICJkYXNoT2Zmc2V0IjogbnVsbCwKICAiZmlsbCI6IHRydWUsCiAgImZpbGxDb2xvciI6ICJncmVlbiIsCiAgImZpbGxPcGFjaXR5IjogMC41LAogICJmaWxsUnVsZSI6ICJldmVub2RkIiwKICAibGluZUNhcCI6ICJyb3VuZCIsCiAgImxpbmVKb2luIjogInJvdW5kIiwKICAib3BhY2l0eSI6IDEuMCwKICAicmFkaXVzIjogMC4wMDEsCiAgInN0cm9rZSI6IHRydWUsCiAgIndlaWdodCI6IDMKfQogICAgICAgICAgICAgICAgKQogICAgICAgICAgICAgICAgLmFkZFRvKG1hcmtlcl9jbHVzdGVyXzI3ZjQxOGU4YmJlMjRlNzdiM2I2MTRkODU4YTc4ZGM0KTsKICAgICAgICAgICAgCiAgICAKICAgICAgICAgICAgdmFyIHBvcHVwX2E5ZDgxNmRjY2JhMDQxYzJiYWNiZjRhOWEyN2EyODMyID0gTC5wb3B1cCh7bWF4V2lkdGg6ICczMDAnCiAgICAgICAgICAgIAogICAgICAgICAgICB9KTsKCiAgICAgICAgICAgIAogICAgICAgICAgICAgICAgdmFyIGh0bWxfY2M2NDE5MGMyMWNmNDhjYmJmMzM3ZGViMmQ5NDA2MDYgPSAkKCc8ZGl2IGlkPSJodG1sX2NjNjQxOTBjMjFjZjQ4Y2JiZjMzN2RlYjJkOTQwNjA2IiBzdHlsZT0id2lkdGg6IDEwMC4wJTsgaGVpZ2h0OiAxMDAuMCU7Ij4gbnVtYmVyIG9mIGVhcnRocXVha2VzOiAxIDxiclw+ZGVhdGhzOiAxLjA8L2Rpdj4nKVswXTsKICAgICAgICAgICAgICAgIHBvcHVwX2E5ZDgxNmRjY2JhMDQxYzJiYWNiZjRhOWEyN2EyODMyLnNldENvbnRlbnQoaHRtbF9jYzY0MTkwYzIxY2Y0OGNiYmYzMzdkZWIyZDk0MDYwNik7CiAgICAgICAgICAgIAoKICAgICAgICAgICAgY2lyY2xlX21hcmtlcl83ZDAwNTQ5NTkxMzk0Y2Q4OWZlYTQ5ZjNhMmU0NDIxNC5iaW5kUG9wdXAocG9wdXBfYTlkODE2ZGNjYmEwNDFjMmJhY2JmNGE5YTI3YTI4MzIpCiAgICAgICAgICAgIDsKCiAgICAgICAgICAgIAogICAgICAgIAogICAgCiAgICAgICAgICAgIHZhciBjaXJjbGVfbWFya2VyX2EzNmQ0Mjg0NTJjZTRiNzY5NWMxOTg1MzFhMjI1YTYyID0gTC5jaXJjbGVNYXJrZXIoCiAgICAgICAgICAgICAgICBbMzQuMTE0LCAtMTE4LjQwNjhdLAogICAgICAgICAgICAgICAgewogICJidWJibGluZ01vdXNlRXZlbnRzIjogdHJ1ZSwKICAiY29sb3IiOiAiZ3JlZW4iLAogICJkYXNoQXJyYXkiOiBudWxsLAogICJkYXNoT2Zmc2V0IjogbnVsbCwKICAiZmlsbCI6IHRydWUsCiAgImZpbGxDb2xvciI6ICJncmVlbiIsCiAgImZpbGxPcGFjaXR5IjogMC41LAogICJmaWxsUnVsZSI6ICJldmVub2RkIiwKICAibGluZUNhcCI6ICJyb3VuZCIsCiAgImxpbmVKb2luIjogInJvdW5kIiwKICAib3BhY2l0eSI6IDEuMCwKICAicmFkaXVzIjogMC4wMDEsCiAgInN0cm9rZSI6IHRydWUsCiAgIndlaWdodCI6IDMKfQogICAgICAgICAgICAgICAgKQogICAgICAgICAgICAgICAgLmFkZFRvKG1hcmtlcl9jbHVzdGVyXzI3ZjQxOGU4YmJlMjRlNzdiM2I2MTRkODU4YTc4ZGM0KTsKICAgICAgICAgICAgCiAgICAKICAgICAgICAgICAgdmFyIHBvcHVwX2I2MTAyNDE2ODI1YTRhYThiZDExYTc2ZDRlZTIwN2QwID0gTC5wb3B1cCh7bWF4V2lkdGg6ICczMDAnCiAgICAgICAgICAgIAogICAgICAgICAgICB9KTsKCiAgICAgICAgICAgIAogICAgICAgICAgICAgICAgdmFyIGh0bWxfZjU3YzQwMjBhNDVhNDQyMGE4MjUyMDdmMTQzOWMxMzcgPSAkKCc8ZGl2IGlkPSJodG1sX2Y1N2M0MDIwYTQ1YTQ0MjBhODI1MjA3ZjE0MzljMTM3IiBzdHlsZT0id2lkdGg6IDEwMC4wJTsgaGVpZ2h0OiAxMDAuMCU7Ij4gbnVtYmVyIG9mIGVhcnRocXVha2VzOiAxIDxiclw+ZGVhdGhzOiAxLjA8L2Rpdj4nKVswXTsKICAgICAgICAgICAgICAgIHBvcHVwX2I2MTAyNDE2ODI1YTRhYThiZDExYTc2ZDRlZTIwN2QwLnNldENvbnRlbnQoaHRtbF9mNTdjNDAyMGE0NWE0NDIwYTgyNTIwN2YxNDM5YzEzNyk7CiAgICAgICAgICAgIAoKICAgICAgICAgICAgY2lyY2xlX21hcmtlcl9hMzZkNDI4NDUyY2U0Yjc2OTVjMTk4NTMxYTIyNWE2Mi5iaW5kUG9wdXAocG9wdXBfYjYxMDI0MTY4MjVhNGFhOGJkMTFhNzZkNGVlMjA3ZDApCiAgICAgICAgICAgIDsKCiAgICAgICAgICAgIAogICAgICAgIAogICAgCiAgICAgICAgICAgIHZhciBjaXJjbGVfbWFya2VyX2Q2ZjY3NDQ1Nzg4MTRkM2VhMThlYzlmZjI1OTM4MTkwID0gTC5jaXJjbGVNYXJrZXIoCiAgICAgICAgICAgICAgICBbMzQuMTE0LCAtMTE4LjQwNjhdLAogICAgICAgICAgICAgICAgewogICJidWJibGluZ01vdXNlRXZlbnRzIjogdHJ1ZSwKICAiY29sb3IiOiAiZ3JlZW4iLAogICJkYXNoQXJyYXkiOiBudWxsLAogICJkYXNoT2Zmc2V0IjogbnVsbCwKICAiZmlsbCI6IHRydWUsCiAgImZpbGxDb2xvciI6ICJncmVlbiIsCiAgImZpbGxPcGFjaXR5IjogMC41LAogICJmaWxsUnVsZSI6ICJldmVub2RkIiwKICAibGluZUNhcCI6ICJyb3VuZCIsCiAgImxpbmVKb2luIjogInJvdW5kIiwKICAib3BhY2l0eSI6IDEuMCwKICAicmFkaXVzIjogMC4wMDIsCiAgInN0cm9rZSI6IHRydWUsCiAgIndlaWdodCI6IDMKfQogICAgICAgICAgICAgICAgKQogICAgICAgICAgICAgICAgLmFkZFRvKG1hcmtlcl9jbHVzdGVyXzI3ZjQxOGU4YmJlMjRlNzdiM2I2MTRkODU4YTc4ZGM0KTsKICAgICAgICAgICAgCiAgICAKICAgICAgICAgICAgdmFyIHBvcHVwXzk2ODM3NjE1M2FkYjQ3Yjg4ZjY2YmZhYTA4ZmUwN2UyID0gTC5wb3B1cCh7bWF4V2lkdGg6ICczMDAnCiAgICAgICAgICAgIAogICAgICAgICAgICB9KTsKCiAgICAgICAgICAgIAogICAgICAgICAgICAgICAgdmFyIGh0bWxfMDcxMDA2YmRjMjA2NGM2ODlkM2QyMDM1M2Y0NTk4YmUgPSAkKCc8ZGl2IGlkPSJodG1sXzA3MTAwNmJkYzIwNjRjNjg5ZDNkMjAzNTNmNDU5OGJlIiBzdHlsZT0id2lkdGg6IDEwMC4wJTsgaGVpZ2h0OiAxMDAuMCU7Ij4gbnVtYmVyIG9mIGVhcnRocXVha2VzOiAxIDxiclw+ZGVhdGhzOiAyLjA8L2Rpdj4nKVswXTsKICAgICAgICAgICAgICAgIHBvcHVwXzk2ODM3NjE1M2FkYjQ3Yjg4ZjY2YmZhYTA4ZmUwN2UyLnNldENvbnRlbnQoaHRtbF8wNzEwMDZiZGMyMDY0YzY4OWQzZDIwMzUzZjQ1OThiZSk7CiAgICAgICAgICAgIAoKICAgICAgICAgICAgY2lyY2xlX21hcmtlcl9kNmY2NzQ0NTc4ODE0ZDNlYTE4ZWM5ZmYyNTkzODE5MC5iaW5kUG9wdXAocG9wdXBfOTY4Mzc2MTUzYWRiNDdiODhmNjZiZmFhMDhmZTA3ZTIpCiAgICAgICAgICAgIDsKCiAgICAgICAgICAgIAogICAgICAgIAogICAgCiAgICAgICAgICAgIHZhciBjaXJjbGVfbWFya2VyXzZkMjhhY2VkNTExNzRiZGRhNWY0MWIzMTAxYmZkOGVhID0gTC5jaXJjbGVNYXJrZXIoCiAgICAgICAgICAgICAgICBbMzQuMTE0LCAtMTE4LjQwNjhdLAogICAgICAgICAgICAgICAgewogICJidWJibGluZ01vdXNlRXZlbnRzIjogdHJ1ZSwKICAiY29sb3IiOiAiZ3JlZW4iLAogICJkYXNoQXJyYXkiOiBudWxsLAogICJkYXNoT2Zmc2V0IjogbnVsbCwKICAiZmlsbCI6IHRydWUsCiAgImZpbGxDb2xvciI6ICJncmVlbiIsCiAgImZpbGxPcGFjaXR5IjogMC41LAogICJmaWxsUnVsZSI6ICJldmVub2RkIiwKICAibGluZUNhcCI6ICJyb3VuZCIsCiAgImxpbmVKb2luIjogInJvdW5kIiwKICAib3BhY2l0eSI6IDEuMCwKICAicmFkaXVzIjogMC4wNiwKICAic3Ryb2tlIjogdHJ1ZSwKICAid2VpZ2h0IjogMwp9CiAgICAgICAgICAgICAgICApCiAgICAgICAgICAgICAgICAuYWRkVG8obWFya2VyX2NsdXN0ZXJfMjdmNDE4ZThiYmUyNGU3N2IzYjYxNGQ4NThhNzhkYzQpOwogICAgICAgICAgICAKICAgIAogICAgICAgICAgICB2YXIgcG9wdXBfODI3YTlkYzlmYmVlNGEwZjhhYjgzNGFkY2E4NzYwMTYgPSBMLnBvcHVwKHttYXhXaWR0aDogJzMwMCcKICAgICAgICAgICAgCiAgICAgICAgICAgIH0pOwoKICAgICAgICAgICAgCiAgICAgICAgICAgICAgICB2YXIgaHRtbF9iYTE1MjA4YjE2YjI0YmRhOTIwZGRjMmYyOTA3NTk3MCA9ICQoJzxkaXYgaWQ9Imh0bWxfYmExNTIwOGIxNmIyNGJkYTkyMGRkYzJmMjkwNzU5NzAiIHN0eWxlPSJ3aWR0aDogMTAwLjAlOyBoZWlnaHQ6IDEwMC4wJTsiPiBudW1iZXIgb2YgZWFydGhxdWFrZXM6IDEgPGJyXD5kZWF0aHM6IDYwLjA8L2Rpdj4nKVswXTsKICAgICAgICAgICAgICAgIHBvcHVwXzgyN2E5ZGM5ZmJlZTRhMGY4YWI4MzRhZGNhODc2MDE2LnNldENvbnRlbnQoaHRtbF9iYTE1MjA4YjE2YjI0YmRhOTIwZGRjMmYyOTA3NTk3MCk7CiAgICAgICAgICAgIAoKICAgICAgICAgICAgY2lyY2xlX21hcmtlcl82ZDI4YWNlZDUxMTc0YmRkYTVmNDFiMzEwMWJmZDhlYS5iaW5kUG9wdXAocG9wdXBfODI3YTlkYzlmYmVlNGEwZjhhYjgzNGFkY2E4NzYwMTYpCiAgICAgICAgICAgIDsKCiAgICAgICAgICAgIAogICAgICAgIAo8L3NjcmlwdD4=\" style=\"position:absolute;width:100%;height:100%;left:0;top:0;border:none !important;\" allowfullscreen webkitallowfullscreen mozallowfullscreen></iframe></div></div>"
      ],
      "text/plain": [
       "<folium.folium.Map at 0x20fb781e710>"
      ]
     },
     "execution_count": 41,
     "metadata": {},
     "output_type": "execute_result"
    }
   ],
   "source": [
    "map21 =folium.Map(location=[lat,long],zoom_start=2)\n",
    "mc = MarkerCluster()\n",
    "for row in data_ready.iterrows():\n",
    "    row_values = row[1]\n",
    "    location = [row_values['Lat_x'], row_values['Long_x']]\n",
    "    popup= \" number of earthquakes: \" + str(row_values['indexler'])  +' <br\\>'+ \"deaths: \" + str(row_values['Deaths'])\n",
    "    mc.add_child(folium.CircleMarker(location=location\n",
    "                                     ,color= color(row_values['indexler'])\n",
    "                                     ,radius=row_values['Deaths']*0.001\n",
    "                                     ,fill_color = color(row_values['indexler'])\n",
    "                                     ,fill_opacity = 0.5\n",
    "                                     ,popup=popup\n",
    "                                    ))\n",
    "map21.add_child(mc)\n",
    "map21\n"
   ]
  },
  {
   "cell_type": "code",
   "execution_count": 42,
   "metadata": {},
   "outputs": [
    {
     "data": {
      "text/html": [
       "<div style=\"width:100%;\"><div style=\"position:relative;width:100%;height:0;padding-bottom:60%;\"><iframe src=\"data:text/html;charset=utf-8;base64,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\" style=\"position:absolute;width:100%;height:100%;left:0;top:0;border:none !important;\" allowfullscreen webkitallowfullscreen mozallowfullscreen></iframe></div></div>"
      ],
      "text/plain": [
       "<folium.folium.Map at 0x20fb8ceb940>"
      ]
     },
     "execution_count": 42,
     "metadata": {},
     "output_type": "execute_result"
    }
   ],
   "source": [
    "map23 =folium.Map(location=[lat,long],zoom_start=2)\n",
    "\n",
    "for row in data_ready.iterrows():\n",
    "    row_values = row[1]\n",
    "    location = [row_values['Lat_x'], row_values['Long_x']]\n",
    "    popup= \" number of earthquakes: \" + str(row_values['indexler'])  +' <br\\>'+ \"deaths: \" + str(row_values['Deaths'])\n",
    "    marker = folium.CircleMarker(location=location\n",
    "                                     ,color= color(row_values['indexler'])\n",
    "                                     ,radius=row_values['Deaths']*0.0001\n",
    "                                     ,fill_color = color(row_values['indexler'])\n",
    "                                     ,fill_opacity = 0.5\n",
    "                                     ,popup=popup\n",
    "                                    )\n",
    "    marker.add_to(map23)\n",
    "\n",
    "map23\n"
   ]
  },
  {
   "cell_type": "code",
   "execution_count": null,
   "metadata": {
    "collapsed": true
   },
   "outputs": [],
   "source": []
  },
  {
   "cell_type": "code",
   "execution_count": null,
   "metadata": {
    "collapsed": true
   },
   "outputs": [],
   "source": []
  }
 ],
 "metadata": {
  "kernelspec": {
   "display_name": "Python 3",
   "language": "python",
   "name": "python3"
  },
  "language_info": {
   "codemirror_mode": {
    "name": "ipython",
    "version": 3
   },
   "file_extension": ".py",
   "mimetype": "text/x-python",
   "name": "python",
   "nbconvert_exporter": "python",
   "pygments_lexer": "ipython3",
   "version": "3.6.3"
  }
 },
 "nbformat": 4,
 "nbformat_minor": 2
}
